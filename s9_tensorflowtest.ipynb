{
  "nbformat": 4,
  "nbformat_minor": 0,
  "metadata": {
    "colab": {
      "name": "s9_tensorflowtest.ipynb",
      "provenance": [],
      "collapsed_sections": [],
      "authorship_tag": "ABX9TyNLIwHJMsv/Nr88noHSd4Yf",
      "include_colab_link": true
    },
    "kernelspec": {
      "name": "python3",
      "display_name": "Python 3"
    },
    "language_info": {
      "name": "python"
    },
    "accelerator": "GPU"
  },
  "cells": [
    {
      "cell_type": "markdown",
      "metadata": {
        "id": "view-in-github",
        "colab_type": "text"
      },
      "source": [
        "<a href=\"https://colab.research.google.com/github/andrsbtrg/S9_ML/blob/main/s9_tensorflowtest.ipynb\" target=\"_parent\"><img src=\"https://colab.research.google.com/assets/colab-badge.svg\" alt=\"Open In Colab\"/></a>"
      ]
    },
    {
      "cell_type": "markdown",
      "metadata": {
        "id": "uVUYxg3V9cmC"
      },
      "source": [
        "Mount your Google drive to access files:"
      ]
    },
    {
      "cell_type": "code",
      "metadata": {
        "colab": {
          "base_uri": "https://localhost:8080/"
        },
        "id": "a4WeyhXF76at",
        "outputId": "dedfb887-98bc-47cb-fb87-987d0c18a897"
      },
      "source": [
        "from google.colab import drive\n",
        "drive.mount('/content/drive')"
      ],
      "execution_count": null,
      "outputs": [
        {
          "output_type": "stream",
          "name": "stdout",
          "text": [
            "Mounted at /content/drive\n"
          ]
        }
      ]
    },
    {
      "cell_type": "markdown",
      "metadata": {
        "id": "RuVCa8FE9jse"
      },
      "source": [
        "Install dependencies"
      ]
    },
    {
      "cell_type": "code",
      "metadata": {
        "id": "n1kqJUqw6Y4s"
      },
      "source": [
        "!pip install tensorflow-gpu==2.0.0"
      ],
      "execution_count": null,
      "outputs": []
    },
    {
      "cell_type": "markdown",
      "metadata": {
        "id": "BmJMBniv9ZAf"
      },
      "source": [
        "Run to check tensorflow works"
      ]
    },
    {
      "cell_type": "code",
      "metadata": {
        "id": "K6Sm889i7eS5"
      },
      "source": [
        "from tensorflow.python.client import device_lib\n",
        "\n",
        "print(device_lib.list_local_devices())"
      ],
      "execution_count": null,
      "outputs": []
    },
    {
      "cell_type": "markdown",
      "metadata": {
        "id": "mco0mDBG9V5Q"
      },
      "source": [
        "Importing libraries"
      ]
    },
    {
      "cell_type": "code",
      "metadata": {
        "id": "lcmhL0vD8uS1"
      },
      "source": [
        "import tensorflow as tf\n",
        "from tensorflow import keras\n",
        "import numpy as np\n",
        "import matplotlib.pyplot as plt\n",
        "from pathlib import Path\n",
        "import json\n",
        "from sklearn.model_selection import train_test_split\n",
        "from google.colab.patches import cv2_imshow"
      ],
      "execution_count": null,
      "outputs": []
    },
    {
      "cell_type": "markdown",
      "metadata": {
        "id": "iJ746VY94mmf"
      },
      "source": [
        "Function to load images"
      ]
    },
    {
      "cell_type": "code",
      "metadata": {
        "id": "8GlTtnFi9u9W"
      },
      "source": [
        "def load_images(img_paths, target_size, interpolation='nearest', color_mode='rgb', normalize=False):\n",
        "    images = []\n",
        "    for img_path in img_paths:\n",
        "        #load image\n",
        "        img = keras.preprocessing.image.load_img(img_path, color_mode=color_mode, target_size=target_size, interpolation=interpolation)\n",
        "        \n",
        "        #convert to array\n",
        "        img = keras.preprocessing.image.img_to_array(img)\n",
        "        \n",
        "        #normalize\n",
        "        if normalize:\n",
        "            img = img / 255\n",
        "        \n",
        "        #append\n",
        "        images.append(img)\n",
        "    \n",
        "    images = np.stack(images, axis=0)\n",
        "    \n",
        "    return images"
      ],
      "execution_count": null,
      "outputs": []
    },
    {
      "cell_type": "markdown",
      "metadata": {
        "id": "lmnOnP_14ucM"
      },
      "source": [
        "Loading the data:\n",
        "\n",
        "Make sure that the path point to the specific folder \"01_shapes_shuffled\" inside the folder \"dataset\" in your drive\n",
        "\n"
      ]
    },
    {
      "cell_type": "code",
      "metadata": {
        "id": "-NVHhRub-I-V"
      },
      "source": [
        "#=======================\n",
        "#LOAD DATA\n",
        "#=======================\n",
        "#PATHS\n",
        "\n",
        "#current path\n",
        "current_folder = Path.cwd()\n",
        "\n",
        "#dataset path\n",
        "dataset_path = current_folder.joinpath(\"/content/drive/MyDrive/s9_dataset/01_shapes_shuffled\")\n",
        "print(dataset_path)"
      ],
      "execution_count": null,
      "outputs": []
    },
    {
      "cell_type": "markdown",
      "metadata": {
        "id": "wSYHRLGN4sPl"
      },
      "source": [
        "Loading the images and the labels:"
      ]
    },
    {
      "cell_type": "code",
      "metadata": {
        "id": "o9--NetC-397"
      },
      "source": [
        "#images path\n",
        "img_paths = dataset_path.glob(\"*.png\")\n",
        "\n",
        "img_paths_list = []\n",
        "for path in img_paths:\n",
        "    path_str = str(path)\n",
        "    img_paths_list.append(path_str)\n",
        "\n",
        "# print(len(img_paths_list))\n",
        "# print(img_paths_list[:10])\n",
        "\n",
        "#list02 = [str(path) for path in img_paths]\n",
        "\n",
        "#Load labels\n",
        "labels_file = open(\"/content/drive/MyDrive/s9_dataset/labels_01_shapes_shuffled.json\")\n",
        "labels = json.load(labels_file)\n",
        "\n",
        "labels = np.stack(labels, axis =0)\n",
        "#---------------------\n",
        "#LOAD IMAGES\n",
        "\n",
        "# #load image\n",
        "img = keras.preprocessing.image.load_img(img_paths_list[9], color_mode='grayscale', target_size=(28, 28), interpolation='bicubic') #normally we use \"nearest\", \n",
        "# print(type(img))\n",
        "# print(img.size)\n",
        "\n",
        "# #convert to array\n",
        "img = keras.preprocessing.image.img_to_array(img)\n",
        "# print(type(img))\n",
        "#print(img.shape)\n",
        "\n",
        "# #normalize\n",
        "#img = img / 255\n",
        "\n",
        "# #preview image\n",
        "#plt.imshow(img)\n",
        "images = load_images(img_paths_list, target_size=(28,28), interpolation='bicubic', color_mode='grayscale', normalize=True)\n",
        "\n",
        "#-----------------------\n",
        "#SPLIT DATA\n",
        "x_train, x_test, y_train, y_test = train_test_split(images, labels, test_size=0.2, random_state=40)\n",
        "print(x_train.shape, x_test.shape)\n",
        "print(y_train.shape, y_test.shape)\n",
        "\n",
        "#=======================\n",
        "#ARTIFICIAL NEURAL NETWORK\n",
        "#======================="
      ],
      "execution_count": null,
      "outputs": []
    },
    {
      "cell_type": "markdown",
      "metadata": {
        "id": "aJLd4NJ4HAVW"
      },
      "source": [
        "\n",
        "\n",
        "---\n",
        "Architecture of the model\n"
      ]
    },
    {
      "cell_type": "code",
      "metadata": {
        "id": "b5PvPZ4U_s6q"
      },
      "source": [
        "ann_model = keras.Sequential([\n",
        "                              # Input Layer\n",
        "                              keras.layers.Flatten(input_shape = (28,28,1)),\n",
        "                              # Hidden Layer\n",
        "                              keras.layers.Dense(units=100, activation = 'relu'),\n",
        "                              # Hidden Layer\n",
        "                              keras.layers.Dense(units = 5, activation= 'softmax'),\n",
        "])"
      ],
      "execution_count": null,
      "outputs": []
    },
    {
      "cell_type": "markdown",
      "metadata": {
        "id": "qucGsZoqCTAB"
      },
      "source": [
        "Set the Optimizer"
      ]
    },
    {
      "cell_type": "code",
      "metadata": {
        "id": "jU89zmi7CQ0K"
      },
      "source": [
        "ann_model.compile(optimizer = 'Adam',\n",
        "                  loss = 'sparse_categorical_crossentropy',\n",
        "                  metrics = ['accuracy'],\n",
        "                  )"
      ],
      "execution_count": null,
      "outputs": []
    },
    {
      "cell_type": "code",
      "metadata": {
        "id": "vWuMn4jVDOCs"
      },
      "source": [
        "# Summary\n",
        "\n",
        "ann_model.summary()"
      ],
      "execution_count": null,
      "outputs": []
    },
    {
      "cell_type": "markdown",
      "metadata": {
        "id": "NmN9uoe6DxYd"
      },
      "source": [
        "Training"
      ]
    },
    {
      "cell_type": "code",
      "metadata": {
        "id": "20Kz1s-VDzTm"
      },
      "source": [
        "model_history = ann_model.fit(x_train,y_train,epochs=100)"
      ],
      "execution_count": null,
      "outputs": []
    },
    {
      "cell_type": "markdown",
      "metadata": {
        "id": "1Xvzx1OBGC18"
      },
      "source": [
        "Visualize epoch vs accuracy of the model"
      ]
    },
    {
      "cell_type": "code",
      "metadata": {
        "id": "fQR1nxc3FVfq"
      },
      "source": [
        "plt.figure()\n",
        "plt.plot(model_history.history['accuracy'],label='accuracy')\n",
        "plt.xlabel(\"epoch\")\n",
        "plt.ylabel(\"accuracy\")\n",
        "plt.ylim([0,1])"
      ],
      "execution_count": null,
      "outputs": []
    },
    {
      "cell_type": "markdown",
      "metadata": {
        "id": "QsWL9T0-GYIf"
      },
      "source": [
        "---\n",
        "\n",
        "Evaluate \n",
        "\n"
      ]
    },
    {
      "cell_type": "code",
      "metadata": {
        "id": "K_U1FvusGX4y"
      },
      "source": [
        "ann_model.evaluate(x_test,y_test)"
      ],
      "execution_count": null,
      "outputs": []
    },
    {
      "cell_type": "markdown",
      "metadata": {
        "id": "SYTzupJRHexY"
      },
      "source": [
        "Saving model"
      ]
    },
    {
      "cell_type": "code",
      "metadata": {
        "id": "wgeRo3_2HeJD"
      },
      "source": [
        "ann_model.save('/content/drive/MyDrive/s9_dataset/saved_model/ann_model_01')"
      ],
      "execution_count": null,
      "outputs": []
    },
    {
      "cell_type": "markdown",
      "metadata": {
        "id": "DwrpxGFVIMao"
      },
      "source": [
        "Loading model"
      ]
    },
    {
      "cell_type": "code",
      "metadata": {
        "id": "PqpFmfm9INUw"
      },
      "source": [
        "model_saved = keras.models.load_model('/content/drive/MyDrive/s9_dataset/saved_model/ann_model_01')\n",
        "model_saved.summary()"
      ],
      "execution_count": null,
      "outputs": []
    },
    {
      "cell_type": "code",
      "metadata": {
        "id": "lqB8bhtDJPG2"
      },
      "source": [
        "model_saved.evaluate(x_test,y_test)"
      ],
      "execution_count": null,
      "outputs": []
    },
    {
      "cell_type": "code",
      "metadata": {
        "id": "e5576B8ISzm1"
      },
      "source": [
        "img_zero = np.zeros(x_test[5].shape)\n",
        "plt.figure()\n",
        "plt.imshow(tf.squeeze(img_zero)) #using tf.squeeze on the image fixes the plt error"
      ],
      "execution_count": null,
      "outputs": []
    },
    {
      "cell_type": "code",
      "metadata": {
        "id": "ONJOujz8MOX9"
      },
      "source": [
        "def predict_image(x,y,img_index,model,label_list):\n",
        "  # predict single image\n",
        "  img = x[img_index]\n",
        "\n",
        "  y_predict = model_saved.predict(x_test[5:6])\n",
        "  y_predict_class = np.argmax(y_pred)\n",
        "  y_predict_class = label_list[y_predict_class]\n",
        "\n",
        "  # real label\n",
        "  y_real = y[img_index]\n",
        "  y_real = label_list[y_real]\n",
        "\n",
        "  # plot\n",
        "  plt.figure(figsize=(5,5))\n",
        "  plt.imshow(tf.squeeze(img)) #squeeze the image before displaying\n",
        "  plt.xlabel(\"pred: {}, label: {}\".format(y_predict_class,y_real))\n",
        "\n",
        "\n",
        "predict_image(x_test,y_test,1,model_saved,labels)"
      ],
      "execution_count": null,
      "outputs": []
    }
  ]
}