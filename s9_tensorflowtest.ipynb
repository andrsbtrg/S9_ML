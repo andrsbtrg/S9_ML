{
  "nbformat": 4,
  "nbformat_minor": 0,
  "metadata": {
    "colab": {
      "name": "s9_tensorflowtest.ipynb",
      "provenance": [],
      "collapsed_sections": [],
      "authorship_tag": "ABX9TyNu6Q6rFL07atTYeqSPB5V6",
      "include_colab_link": true
    },
    "kernelspec": {
      "name": "python3",
      "display_name": "Python 3"
    },
    "language_info": {
      "name": "python"
    },
    "accelerator": "GPU"
  },
  "cells": [
    {
      "cell_type": "markdown",
      "metadata": {
        "id": "view-in-github",
        "colab_type": "text"
      },
      "source": [
        "<a href=\"https://colab.research.google.com/github/andrsbtrg/S9_ML/blob/main/s9_tensorflowtest.ipynb\" target=\"_parent\"><img src=\"https://colab.research.google.com/assets/colab-badge.svg\" alt=\"Open In Colab\"/></a>"
      ]
    },
    {
      "cell_type": "markdown",
      "metadata": {
        "id": "uVUYxg3V9cmC"
      },
      "source": [
        "Mount your Google drive to access files:"
      ]
    },
    {
      "cell_type": "code",
      "metadata": {
        "colab": {
          "base_uri": "https://localhost:8080/"
        },
        "id": "a4WeyhXF76at",
        "outputId": "dedfb887-98bc-47cb-fb87-987d0c18a897"
      },
      "source": [
        "from google.colab import drive\n",
        "drive.mount('/content/drive')"
      ],
      "execution_count": null,
      "outputs": [
        {
          "output_type": "stream",
          "name": "stdout",
          "text": [
            "Mounted at /content/drive\n"
          ]
        }
      ]
    },
    {
      "cell_type": "markdown",
      "metadata": {
        "id": "RuVCa8FE9jse"
      },
      "source": [
        "Install dependencies"
      ]
    },
    {
      "cell_type": "code",
      "metadata": {
        "colab": {
          "base_uri": "https://localhost:8080/"
        },
        "id": "n1kqJUqw6Y4s",
        "outputId": "c36fdfb3-bf4d-4282-a086-7f7ded039232"
      },
      "source": [
        "!pip install tensorflow-gpu==2.0.0"
      ],
      "execution_count": null,
      "outputs": [
        {
          "output_type": "stream",
          "name": "stdout",
          "text": [
            "Collecting tensorflow-gpu==2.0.0\n",
            "  Downloading tensorflow_gpu-2.0.0-cp37-cp37m-manylinux2010_x86_64.whl (380.8 MB)\n",
            "\u001b[K     |████████████████████████████████| 380.8 MB 43 kB/s \n",
            "\u001b[?25hCollecting tensorflow-estimator<2.1.0,>=2.0.0\n",
            "  Downloading tensorflow_estimator-2.0.1-py2.py3-none-any.whl (449 kB)\n",
            "\u001b[K     |████████████████████████████████| 449 kB 46.0 MB/s \n",
            "\u001b[?25hRequirement already satisfied: opt-einsum>=2.3.2 in /usr/local/lib/python3.7/dist-packages (from tensorflow-gpu==2.0.0) (3.3.0)\n",
            "Requirement already satisfied: numpy<2.0,>=1.16.0 in /usr/local/lib/python3.7/dist-packages (from tensorflow-gpu==2.0.0) (1.19.5)\n",
            "Requirement already satisfied: termcolor>=1.1.0 in /usr/local/lib/python3.7/dist-packages (from tensorflow-gpu==2.0.0) (1.1.0)\n",
            "Requirement already satisfied: wheel>=0.26 in /usr/local/lib/python3.7/dist-packages (from tensorflow-gpu==2.0.0) (0.37.0)\n",
            "Requirement already satisfied: six>=1.10.0 in /usr/local/lib/python3.7/dist-packages (from tensorflow-gpu==2.0.0) (1.15.0)\n",
            "Collecting tensorboard<2.1.0,>=2.0.0\n",
            "  Downloading tensorboard-2.0.2-py3-none-any.whl (3.8 MB)\n",
            "\u001b[K     |████████████████████████████████| 3.8 MB 37.9 MB/s \n",
            "\u001b[?25hCollecting gast==0.2.2\n",
            "  Downloading gast-0.2.2.tar.gz (10 kB)\n",
            "Requirement already satisfied: absl-py>=0.7.0 in /usr/local/lib/python3.7/dist-packages (from tensorflow-gpu==2.0.0) (0.12.0)\n",
            "Requirement already satisfied: keras-preprocessing>=1.0.5 in /usr/local/lib/python3.7/dist-packages (from tensorflow-gpu==2.0.0) (1.1.2)\n",
            "Requirement already satisfied: protobuf>=3.6.1 in /usr/local/lib/python3.7/dist-packages (from tensorflow-gpu==2.0.0) (3.17.3)\n",
            "Requirement already satisfied: wrapt>=1.11.1 in /usr/local/lib/python3.7/dist-packages (from tensorflow-gpu==2.0.0) (1.13.3)\n",
            "Collecting keras-applications>=1.0.8\n",
            "  Downloading Keras_Applications-1.0.8-py3-none-any.whl (50 kB)\n",
            "\u001b[K     |████████████████████████████████| 50 kB 6.8 MB/s \n",
            "\u001b[?25hRequirement already satisfied: grpcio>=1.8.6 in /usr/local/lib/python3.7/dist-packages (from tensorflow-gpu==2.0.0) (1.42.0)\n",
            "Requirement already satisfied: google-pasta>=0.1.6 in /usr/local/lib/python3.7/dist-packages (from tensorflow-gpu==2.0.0) (0.2.0)\n",
            "Requirement already satisfied: astor>=0.6.0 in /usr/local/lib/python3.7/dist-packages (from tensorflow-gpu==2.0.0) (0.8.1)\n",
            "Requirement already satisfied: h5py in /usr/local/lib/python3.7/dist-packages (from keras-applications>=1.0.8->tensorflow-gpu==2.0.0) (3.1.0)\n",
            "Requirement already satisfied: werkzeug>=0.11.15 in /usr/local/lib/python3.7/dist-packages (from tensorboard<2.1.0,>=2.0.0->tensorflow-gpu==2.0.0) (1.0.1)\n",
            "Requirement already satisfied: setuptools>=41.0.0 in /usr/local/lib/python3.7/dist-packages (from tensorboard<2.1.0,>=2.0.0->tensorflow-gpu==2.0.0) (57.4.0)\n",
            "Requirement already satisfied: requests<3,>=2.21.0 in /usr/local/lib/python3.7/dist-packages (from tensorboard<2.1.0,>=2.0.0->tensorflow-gpu==2.0.0) (2.23.0)\n",
            "Requirement already satisfied: google-auth<2,>=1.6.3 in /usr/local/lib/python3.7/dist-packages (from tensorboard<2.1.0,>=2.0.0->tensorflow-gpu==2.0.0) (1.35.0)\n",
            "Requirement already satisfied: google-auth-oauthlib<0.5,>=0.4.1 in /usr/local/lib/python3.7/dist-packages (from tensorboard<2.1.0,>=2.0.0->tensorflow-gpu==2.0.0) (0.4.6)\n",
            "Requirement already satisfied: markdown>=2.6.8 in /usr/local/lib/python3.7/dist-packages (from tensorboard<2.1.0,>=2.0.0->tensorflow-gpu==2.0.0) (3.3.6)\n",
            "Requirement already satisfied: cachetools<5.0,>=2.0.0 in /usr/local/lib/python3.7/dist-packages (from google-auth<2,>=1.6.3->tensorboard<2.1.0,>=2.0.0->tensorflow-gpu==2.0.0) (4.2.4)\n",
            "Requirement already satisfied: rsa<5,>=3.1.4 in /usr/local/lib/python3.7/dist-packages (from google-auth<2,>=1.6.3->tensorboard<2.1.0,>=2.0.0->tensorflow-gpu==2.0.0) (4.7.2)\n",
            "Requirement already satisfied: pyasn1-modules>=0.2.1 in /usr/local/lib/python3.7/dist-packages (from google-auth<2,>=1.6.3->tensorboard<2.1.0,>=2.0.0->tensorflow-gpu==2.0.0) (0.2.8)\n",
            "Requirement already satisfied: requests-oauthlib>=0.7.0 in /usr/local/lib/python3.7/dist-packages (from google-auth-oauthlib<0.5,>=0.4.1->tensorboard<2.1.0,>=2.0.0->tensorflow-gpu==2.0.0) (1.3.0)\n",
            "Requirement already satisfied: importlib-metadata>=4.4 in /usr/local/lib/python3.7/dist-packages (from markdown>=2.6.8->tensorboard<2.1.0,>=2.0.0->tensorflow-gpu==2.0.0) (4.8.2)\n",
            "Requirement already satisfied: zipp>=0.5 in /usr/local/lib/python3.7/dist-packages (from importlib-metadata>=4.4->markdown>=2.6.8->tensorboard<2.1.0,>=2.0.0->tensorflow-gpu==2.0.0) (3.6.0)\n",
            "Requirement already satisfied: typing-extensions>=3.6.4 in /usr/local/lib/python3.7/dist-packages (from importlib-metadata>=4.4->markdown>=2.6.8->tensorboard<2.1.0,>=2.0.0->tensorflow-gpu==2.0.0) (3.10.0.2)\n",
            "Requirement already satisfied: pyasn1<0.5.0,>=0.4.6 in /usr/local/lib/python3.7/dist-packages (from pyasn1-modules>=0.2.1->google-auth<2,>=1.6.3->tensorboard<2.1.0,>=2.0.0->tensorflow-gpu==2.0.0) (0.4.8)\n",
            "Requirement already satisfied: idna<3,>=2.5 in /usr/local/lib/python3.7/dist-packages (from requests<3,>=2.21.0->tensorboard<2.1.0,>=2.0.0->tensorflow-gpu==2.0.0) (2.10)\n",
            "Requirement already satisfied: certifi>=2017.4.17 in /usr/local/lib/python3.7/dist-packages (from requests<3,>=2.21.0->tensorboard<2.1.0,>=2.0.0->tensorflow-gpu==2.0.0) (2021.10.8)\n",
            "Requirement already satisfied: chardet<4,>=3.0.2 in /usr/local/lib/python3.7/dist-packages (from requests<3,>=2.21.0->tensorboard<2.1.0,>=2.0.0->tensorflow-gpu==2.0.0) (3.0.4)\n",
            "Requirement already satisfied: urllib3!=1.25.0,!=1.25.1,<1.26,>=1.21.1 in /usr/local/lib/python3.7/dist-packages (from requests<3,>=2.21.0->tensorboard<2.1.0,>=2.0.0->tensorflow-gpu==2.0.0) (1.24.3)\n",
            "Requirement already satisfied: oauthlib>=3.0.0 in /usr/local/lib/python3.7/dist-packages (from requests-oauthlib>=0.7.0->google-auth-oauthlib<0.5,>=0.4.1->tensorboard<2.1.0,>=2.0.0->tensorflow-gpu==2.0.0) (3.1.1)\n",
            "Requirement already satisfied: cached-property in /usr/local/lib/python3.7/dist-packages (from h5py->keras-applications>=1.0.8->tensorflow-gpu==2.0.0) (1.5.2)\n",
            "Building wheels for collected packages: gast\n",
            "  Building wheel for gast (setup.py) ... \u001b[?25l\u001b[?25hdone\n",
            "  Created wheel for gast: filename=gast-0.2.2-py3-none-any.whl size=7554 sha256=62f6d39373a41ff35e33a2e07f3f62cd95bbe46f111fba46fc8df36382e1c3e5\n",
            "  Stored in directory: /root/.cache/pip/wheels/21/7f/02/420f32a803f7d0967b48dd823da3f558c5166991bfd204eef3\n",
            "Successfully built gast\n",
            "Installing collected packages: tensorflow-estimator, tensorboard, keras-applications, gast, tensorflow-gpu\n",
            "  Attempting uninstall: tensorflow-estimator\n",
            "    Found existing installation: tensorflow-estimator 2.7.0\n",
            "    Uninstalling tensorflow-estimator-2.7.0:\n",
            "      Successfully uninstalled tensorflow-estimator-2.7.0\n",
            "  Attempting uninstall: tensorboard\n",
            "    Found existing installation: tensorboard 2.7.0\n",
            "    Uninstalling tensorboard-2.7.0:\n",
            "      Successfully uninstalled tensorboard-2.7.0\n",
            "  Attempting uninstall: gast\n",
            "    Found existing installation: gast 0.4.0\n",
            "    Uninstalling gast-0.4.0:\n",
            "      Successfully uninstalled gast-0.4.0\n",
            "\u001b[31mERROR: pip's dependency resolver does not currently take into account all the packages that are installed. This behaviour is the source of the following dependency conflicts.\n",
            "tensorflow 2.7.0 requires tensorboard~=2.6, but you have tensorboard 2.0.2 which is incompatible.\n",
            "tensorflow 2.7.0 requires tensorflow-estimator<2.8,~=2.7.0rc0, but you have tensorflow-estimator 2.0.1 which is incompatible.\n",
            "tensorflow-probability 0.15.0 requires gast>=0.3.2, but you have gast 0.2.2 which is incompatible.\u001b[0m\n",
            "Successfully installed gast-0.2.2 keras-applications-1.0.8 tensorboard-2.0.2 tensorflow-estimator-2.0.1 tensorflow-gpu-2.0.0\n"
          ]
        }
      ]
    },
    {
      "cell_type": "markdown",
      "metadata": {
        "id": "BmJMBniv9ZAf"
      },
      "source": [
        "Run to check tensorflow works ⚡"
      ]
    },
    {
      "cell_type": "code",
      "metadata": {
        "colab": {
          "base_uri": "https://localhost:8080/"
        },
        "id": "K6Sm889i7eS5",
        "outputId": "c13e69d2-7c2b-462d-b0d9-738aea8a22d6"
      },
      "source": [
        "from tensorflow.python.client import device_lib\n",
        "\n",
        "print(device_lib.list_local_devices())"
      ],
      "execution_count": null,
      "outputs": [
        {
          "output_type": "stream",
          "name": "stdout",
          "text": [
            "[name: \"/device:CPU:0\"\n",
            "device_type: \"CPU\"\n",
            "memory_limit: 268435456\n",
            "locality {\n",
            "}\n",
            "incarnation: 6879233226322094714\n",
            ", name: \"/device:XLA_CPU:0\"\n",
            "device_type: \"XLA_CPU\"\n",
            "memory_limit: 17179869184\n",
            "locality {\n",
            "}\n",
            "incarnation: 7980722649056181511\n",
            "physical_device_desc: \"device: XLA_CPU device\"\n",
            ", name: \"/device:XLA_GPU:0\"\n",
            "device_type: \"XLA_GPU\"\n",
            "memory_limit: 17179869184\n",
            "locality {\n",
            "}\n",
            "incarnation: 7617504387834678384\n",
            "physical_device_desc: \"device: XLA_GPU device\"\n",
            ", name: \"/device:GPU:0\"\n",
            "device_type: \"GPU\"\n",
            "memory_limit: 11338832282\n",
            "locality {\n",
            "  bus_id: 1\n",
            "  links {\n",
            "  }\n",
            "}\n",
            "incarnation: 3871214443180001483\n",
            "physical_device_desc: \"device: 0, name: Tesla K80, pci bus id: 0000:00:04.0, compute capability: 3.7\"\n",
            "]\n"
          ]
        }
      ]
    },
    {
      "cell_type": "markdown",
      "metadata": {
        "id": "mco0mDBG9V5Q"
      },
      "source": [
        "Importing libraries"
      ]
    },
    {
      "cell_type": "code",
      "metadata": {
        "id": "lcmhL0vD8uS1"
      },
      "source": [
        "import tensorflow as tf\n",
        "from tensorflow import keras\n",
        "import numpy as np\n",
        "import matplotlib.pyplot as plt\n",
        "from pathlib import Path\n",
        "import json\n",
        "from sklearn.model_selection import train_test_split\n",
        "from google.colab.patches import cv2_imshow"
      ],
      "execution_count": null,
      "outputs": []
    },
    {
      "cell_type": "markdown",
      "metadata": {
        "id": "iJ746VY94mmf"
      },
      "source": [
        "Function to load images"
      ]
    },
    {
      "cell_type": "code",
      "metadata": {
        "id": "8GlTtnFi9u9W"
      },
      "source": [
        "def load_images(img_paths, target_size, interpolation='nearest', color_mode='rgb', normalize=False):\n",
        "    images = []\n",
        "    for img_path in img_paths:\n",
        "        #load image\n",
        "        img = keras.preprocessing.image.load_img(img_path, color_mode=color_mode, target_size=target_size, interpolation=interpolation)\n",
        "        \n",
        "        #convert to array\n",
        "        img = keras.preprocessing.image.img_to_array(img)\n",
        "        \n",
        "        #normalize\n",
        "        if normalize:\n",
        "            img = img / 255\n",
        "        \n",
        "        #append\n",
        "        images.append(img)\n",
        "    \n",
        "    images = np.stack(images, axis=0)\n",
        "    \n",
        "    return images"
      ],
      "execution_count": null,
      "outputs": []
    },
    {
      "cell_type": "markdown",
      "metadata": {
        "id": "lmnOnP_14ucM"
      },
      "source": [
        "Loading the data:\n",
        "\n",
        "Make sure that the path point to the specific folder \"01_shapes_shuffled\" inside the folder \"dataset\" in your drive\n",
        "\n"
      ]
    },
    {
      "cell_type": "code",
      "metadata": {
        "id": "-NVHhRub-I-V",
        "colab": {
          "base_uri": "https://localhost:8080/"
        },
        "outputId": "ccbffb40-0356-454e-e7c8-26be6cc326ff"
      },
      "source": [
        "#=======================\n",
        "#LOAD DATA\n",
        "#=======================\n",
        "#PATHS\n",
        "\n",
        "#current path\n",
        "current_folder = Path.cwd()\n",
        "\n",
        "#dataset path\n",
        "dataset_path = current_folder.joinpath(\"/content/drive/MyDrive/s9_dataset/01_shapes_shuffled\")\n",
        "print(dataset_path)"
      ],
      "execution_count": null,
      "outputs": [
        {
          "output_type": "stream",
          "name": "stdout",
          "text": [
            "/content/drive/MyDrive/s9_dataset/01_shapes_shuffled\n"
          ]
        }
      ]
    },
    {
      "cell_type": "markdown",
      "metadata": {
        "id": "wSYHRLGN4sPl"
      },
      "source": [
        "Loading the images and the labels:"
      ]
    },
    {
      "cell_type": "code",
      "metadata": {
        "colab": {
          "base_uri": "https://localhost:8080/"
        },
        "id": "o9--NetC-397",
        "outputId": "ae25af4c-2b66-4132-c97b-4cb701232c17"
      },
      "source": [
        "#images path\n",
        "img_paths = dataset_path.glob(\"*.png\")\n",
        "\n",
        "img_paths_list = []\n",
        "for path in img_paths:\n",
        "    path_str = str(path)\n",
        "    img_paths_list.append(path_str)\n",
        "\n",
        "# print(len(img_paths_list))\n",
        "# print(img_paths_list[:10])\n",
        "\n",
        "#list02 = [str(path) for path in img_paths]\n",
        "\n",
        "#Load labels\n",
        "labels_file = open(\"/content/drive/MyDrive/s9_dataset/labels_01_shapes_shuffled.json\")\n",
        "labels = json.load(labels_file)\n",
        "\n",
        "labels = np.stack(labels, axis =0)\n",
        "#---------------------\n",
        "#LOAD IMAGES\n",
        "\n",
        "# #load image\n",
        "img = keras.preprocessing.image.load_img(img_paths_list[9], color_mode='grayscale', target_size=(28, 28), interpolation='bicubic') #normally we use \"nearest\", \n",
        "# print(type(img))\n",
        "# print(img.size)\n",
        "\n",
        "# #convert to array\n",
        "img = keras.preprocessing.image.img_to_array(img)\n",
        "# print(type(img))\n",
        "#print(img.shape)\n",
        "\n",
        "# #normalize\n",
        "#img = img / 255\n",
        "\n",
        "# #preview image\n",
        "#plt.imshow(img)\n",
        "images = load_images(img_paths_list, target_size=(28,28), interpolation='bicubic', color_mode='grayscale', normalize=True)\n",
        "\n",
        "#-----------------------\n",
        "#SPLIT DATA\n",
        "x_train, x_test, y_train, y_test = train_test_split(images, labels, test_size=0.2, random_state=40)\n",
        "print(x_train.shape, x_test.shape)\n",
        "print(y_train.shape, y_test.shape)\n",
        "\n",
        "#=======================\n",
        "#ARTIFICIAL NEURAL NETWORK\n",
        "#======================="
      ],
      "execution_count": null,
      "outputs": [
        {
          "output_type": "stream",
          "name": "stdout",
          "text": [
            "(224, 28, 28, 1) (56, 28, 28, 1)\n",
            "(224,) (56,)\n"
          ]
        }
      ]
    },
    {
      "cell_type": "markdown",
      "metadata": {
        "id": "aJLd4NJ4HAVW"
      },
      "source": [
        "\n",
        "\n",
        "---\n",
        "Architecture of the model\n"
      ]
    },
    {
      "cell_type": "code",
      "metadata": {
        "id": "b5PvPZ4U_s6q"
      },
      "source": [
        "ann_model = keras.Sequential([\n",
        "                              # Input Layer\n",
        "                              keras.layers.Flatten(input_shape = (28,28,1)),\n",
        "                              # Hidden Layer\n",
        "                              keras.layers.Dense(units=100, activation = 'relu'),\n",
        "                              # Hidden Layer\n",
        "                              keras.layers.Dense(units = 5, activation= 'softmax'),\n",
        "])"
      ],
      "execution_count": null,
      "outputs": []
    },
    {
      "cell_type": "markdown",
      "metadata": {
        "id": "qucGsZoqCTAB"
      },
      "source": [
        "Set the Optimizer"
      ]
    },
    {
      "cell_type": "code",
      "metadata": {
        "id": "jU89zmi7CQ0K"
      },
      "source": [
        "ann_model.compile(optimizer = 'Adam',\n",
        "                  loss = 'sparse_categorical_crossentropy',\n",
        "                  metrics = ['accuracy'],\n",
        "                  )"
      ],
      "execution_count": null,
      "outputs": []
    },
    {
      "cell_type": "code",
      "metadata": {
        "colab": {
          "base_uri": "https://localhost:8080/"
        },
        "id": "vWuMn4jVDOCs",
        "outputId": "0c2edf95-e52c-447f-f9b0-97bd8b2eef63"
      },
      "source": [
        "# Summary\n",
        "\n",
        "ann_model.summary()"
      ],
      "execution_count": null,
      "outputs": [
        {
          "output_type": "stream",
          "name": "stdout",
          "text": [
            "Model: \"sequential_1\"\n",
            "_________________________________________________________________\n",
            "Layer (type)                 Output Shape              Param #   \n",
            "=================================================================\n",
            "flatten_1 (Flatten)          (None, 784)               0         \n",
            "_________________________________________________________________\n",
            "dense_2 (Dense)              (None, 100)               78500     \n",
            "_________________________________________________________________\n",
            "dense_3 (Dense)              (None, 5)                 505       \n",
            "=================================================================\n",
            "Total params: 79,005\n",
            "Trainable params: 79,005\n",
            "Non-trainable params: 0\n",
            "_________________________________________________________________\n"
          ]
        }
      ]
    },
    {
      "cell_type": "markdown",
      "metadata": {
        "id": "NmN9uoe6DxYd"
      },
      "source": [
        "Training"
      ]
    },
    {
      "cell_type": "code",
      "metadata": {
        "colab": {
          "base_uri": "https://localhost:8080/"
        },
        "id": "20Kz1s-VDzTm",
        "outputId": "98afa259-9937-4709-9c91-04d128011558"
      },
      "source": [
        "model_history = ann_model.fit(x_train,y_train,epochs=100)"
      ],
      "execution_count": null,
      "outputs": [
        {
          "output_type": "stream",
          "name": "stdout",
          "text": [
            "Train on 224 samples\n",
            "Epoch 1/100\n",
            "224/224 [==============================] - 1s 6ms/sample - loss: 2.0570 - accuracy: 0.1964\n",
            "Epoch 2/100\n",
            "224/224 [==============================] - 0s 131us/sample - loss: 1.7334 - accuracy: 0.1161\n",
            "Epoch 3/100\n",
            "224/224 [==============================] - 0s 147us/sample - loss: 1.6703 - accuracy: 0.1562\n",
            "Epoch 4/100\n",
            "224/224 [==============================] - 0s 166us/sample - loss: 1.6407 - accuracy: 0.2098\n",
            "Epoch 5/100\n",
            "224/224 [==============================] - 0s 140us/sample - loss: 1.6663 - accuracy: 0.2098\n",
            "Epoch 6/100\n",
            "224/224 [==============================] - 0s 122us/sample - loss: 1.6542 - accuracy: 0.2143\n",
            "Epoch 7/100\n",
            "224/224 [==============================] - 0s 146us/sample - loss: 1.6782 - accuracy: 0.1786\n",
            "Epoch 8/100\n",
            "224/224 [==============================] - 0s 141us/sample - loss: 1.6267 - accuracy: 0.2188\n",
            "Epoch 9/100\n",
            "224/224 [==============================] - 0s 143us/sample - loss: 1.6199 - accuracy: 0.2277\n",
            "Epoch 10/100\n",
            "224/224 [==============================] - 0s 160us/sample - loss: 1.6372 - accuracy: 0.2455\n",
            "Epoch 11/100\n",
            "224/224 [==============================] - 0s 150us/sample - loss: 1.6570 - accuracy: 0.2411\n",
            "Epoch 12/100\n",
            "224/224 [==============================] - 0s 143us/sample - loss: 1.6032 - accuracy: 0.2545\n",
            "Epoch 13/100\n",
            "224/224 [==============================] - 0s 141us/sample - loss: 1.6300 - accuracy: 0.2411\n",
            "Epoch 14/100\n",
            "224/224 [==============================] - 0s 157us/sample - loss: 1.6064 - accuracy: 0.2500\n",
            "Epoch 15/100\n",
            "224/224 [==============================] - 0s 189us/sample - loss: 1.6625 - accuracy: 0.2054\n",
            "Epoch 16/100\n",
            "224/224 [==============================] - 0s 131us/sample - loss: 1.6192 - accuracy: 0.2946\n",
            "Epoch 17/100\n",
            "224/224 [==============================] - 0s 171us/sample - loss: 1.6539 - accuracy: 0.2723\n",
            "Epoch 18/100\n",
            "224/224 [==============================] - 0s 132us/sample - loss: 1.6554 - accuracy: 0.2455\n",
            "Epoch 19/100\n",
            "224/224 [==============================] - 0s 141us/sample - loss: 1.6008 - accuracy: 0.2768\n",
            "Epoch 20/100\n",
            "224/224 [==============================] - 0s 190us/sample - loss: 1.5805 - accuracy: 0.2768\n",
            "Epoch 21/100\n",
            "224/224 [==============================] - 0s 150us/sample - loss: 1.5599 - accuracy: 0.2634\n",
            "Epoch 22/100\n",
            "224/224 [==============================] - 0s 144us/sample - loss: 1.5899 - accuracy: 0.3393\n",
            "Epoch 23/100\n",
            "224/224 [==============================] - 0s 198us/sample - loss: 1.6431 - accuracy: 0.1875\n",
            "Epoch 24/100\n",
            "224/224 [==============================] - 0s 156us/sample - loss: 1.6089 - accuracy: 0.2857\n",
            "Epoch 25/100\n",
            "224/224 [==============================] - 0s 147us/sample - loss: 1.6698 - accuracy: 0.1964\n",
            "Epoch 26/100\n",
            "224/224 [==============================] - 0s 137us/sample - loss: 1.5388 - accuracy: 0.3304\n",
            "Epoch 27/100\n",
            "224/224 [==============================] - 0s 141us/sample - loss: 1.6399 - accuracy: 0.2768\n",
            "Epoch 28/100\n",
            "224/224 [==============================] - 0s 148us/sample - loss: 1.5935 - accuracy: 0.2321\n",
            "Epoch 29/100\n",
            "224/224 [==============================] - 0s 182us/sample - loss: 1.5742 - accuracy: 0.2500\n",
            "Epoch 30/100\n",
            "224/224 [==============================] - 0s 148us/sample - loss: 1.5457 - accuracy: 0.2455\n",
            "Epoch 31/100\n",
            "224/224 [==============================] - 0s 141us/sample - loss: 1.5732 - accuracy: 0.3170\n",
            "Epoch 32/100\n",
            "224/224 [==============================] - 0s 139us/sample - loss: 1.5900 - accuracy: 0.3348\n",
            "Epoch 33/100\n",
            "224/224 [==============================] - 0s 142us/sample - loss: 1.6112 - accuracy: 0.2009\n",
            "Epoch 34/100\n",
            "224/224 [==============================] - 0s 141us/sample - loss: 1.4990 - accuracy: 0.3259\n",
            "Epoch 35/100\n",
            "224/224 [==============================] - 0s 140us/sample - loss: 1.5376 - accuracy: 0.3259\n",
            "Epoch 36/100\n",
            "224/224 [==============================] - 0s 203us/sample - loss: 1.5269 - accuracy: 0.3214\n",
            "Epoch 37/100\n",
            "224/224 [==============================] - 0s 146us/sample - loss: 1.5342 - accuracy: 0.2812\n",
            "Epoch 38/100\n",
            "224/224 [==============================] - 0s 149us/sample - loss: 1.5042 - accuracy: 0.3973\n",
            "Epoch 39/100\n",
            "224/224 [==============================] - 0s 145us/sample - loss: 1.4925 - accuracy: 0.2946\n",
            "Epoch 40/100\n",
            "224/224 [==============================] - 0s 174us/sample - loss: 1.5144 - accuracy: 0.3705\n",
            "Epoch 41/100\n",
            "224/224 [==============================] - 0s 166us/sample - loss: 1.5218 - accuracy: 0.3393\n",
            "Epoch 42/100\n",
            "224/224 [==============================] - 0s 158us/sample - loss: 1.5329 - accuracy: 0.3884\n",
            "Epoch 43/100\n",
            "224/224 [==============================] - 0s 208us/sample - loss: 1.5168 - accuracy: 0.3438\n",
            "Epoch 44/100\n",
            "224/224 [==============================] - 0s 135us/sample - loss: 1.4875 - accuracy: 0.3036\n",
            "Epoch 45/100\n",
            "224/224 [==============================] - 0s 162us/sample - loss: 1.4734 - accuracy: 0.3705\n",
            "Epoch 46/100\n",
            "224/224 [==============================] - 0s 164us/sample - loss: 1.4559 - accuracy: 0.4464\n",
            "Epoch 47/100\n",
            "224/224 [==============================] - 0s 154us/sample - loss: 1.4862 - accuracy: 0.3259\n",
            "Epoch 48/100\n",
            "224/224 [==============================] - 0s 152us/sample - loss: 1.5237 - accuracy: 0.3750\n",
            "Epoch 49/100\n",
            "224/224 [==============================] - 0s 138us/sample - loss: 1.4941 - accuracy: 0.3616\n",
            "Epoch 50/100\n",
            "224/224 [==============================] - 0s 132us/sample - loss: 1.4709 - accuracy: 0.3884\n",
            "Epoch 51/100\n",
            "224/224 [==============================] - 0s 166us/sample - loss: 1.4420 - accuracy: 0.4018\n",
            "Epoch 52/100\n",
            "224/224 [==============================] - 0s 137us/sample - loss: 1.4754 - accuracy: 0.3571\n",
            "Epoch 53/100\n",
            "224/224 [==============================] - 0s 137us/sample - loss: 1.5644 - accuracy: 0.2812\n",
            "Epoch 54/100\n",
            "224/224 [==============================] - 0s 161us/sample - loss: 1.5891 - accuracy: 0.2500\n",
            "Epoch 55/100\n",
            "224/224 [==============================] - 0s 143us/sample - loss: 1.4927 - accuracy: 0.2723\n",
            "Epoch 56/100\n",
            "224/224 [==============================] - 0s 159us/sample - loss: 1.4523 - accuracy: 0.4286\n",
            "Epoch 57/100\n",
            "224/224 [==============================] - 0s 142us/sample - loss: 1.4367 - accuracy: 0.3750\n",
            "Epoch 58/100\n",
            "224/224 [==============================] - 0s 160us/sample - loss: 1.4380 - accuracy: 0.4018\n",
            "Epoch 59/100\n",
            "224/224 [==============================] - 0s 159us/sample - loss: 1.4304 - accuracy: 0.4062\n",
            "Epoch 60/100\n",
            "224/224 [==============================] - 0s 157us/sample - loss: 1.4206 - accuracy: 0.3661\n",
            "Epoch 61/100\n",
            "224/224 [==============================] - 0s 141us/sample - loss: 1.4287 - accuracy: 0.4732\n",
            "Epoch 62/100\n",
            "224/224 [==============================] - 0s 140us/sample - loss: 1.3860 - accuracy: 0.4821\n",
            "Epoch 63/100\n",
            "224/224 [==============================] - 0s 141us/sample - loss: 1.4153 - accuracy: 0.4464\n",
            "Epoch 64/100\n",
            "224/224 [==============================] - 0s 134us/sample - loss: 1.4247 - accuracy: 0.3929\n",
            "Epoch 65/100\n",
            "224/224 [==============================] - 0s 156us/sample - loss: 1.4168 - accuracy: 0.4330\n",
            "Epoch 66/100\n",
            "224/224 [==============================] - 0s 138us/sample - loss: 1.4312 - accuracy: 0.4062\n",
            "Epoch 67/100\n",
            "224/224 [==============================] - 0s 160us/sample - loss: 1.4299 - accuracy: 0.2991\n",
            "Epoch 68/100\n",
            "224/224 [==============================] - 0s 148us/sample - loss: 1.4072 - accuracy: 0.4554\n",
            "Epoch 69/100\n",
            "224/224 [==============================] - 0s 139us/sample - loss: 1.5349 - accuracy: 0.3259\n",
            "Epoch 70/100\n",
            "224/224 [==============================] - 0s 142us/sample - loss: 1.4232 - accuracy: 0.3929\n",
            "Epoch 71/100\n",
            "224/224 [==============================] - 0s 176us/sample - loss: 1.4388 - accuracy: 0.3304\n",
            "Epoch 72/100\n",
            "224/224 [==============================] - 0s 142us/sample - loss: 1.3782 - accuracy: 0.4866\n",
            "Epoch 73/100\n",
            "224/224 [==============================] - 0s 190us/sample - loss: 1.3651 - accuracy: 0.4955\n",
            "Epoch 74/100\n",
            "224/224 [==============================] - 0s 136us/sample - loss: 1.3513 - accuracy: 0.5312\n",
            "Epoch 75/100\n",
            "224/224 [==============================] - 0s 150us/sample - loss: 1.3856 - accuracy: 0.4509\n",
            "Epoch 76/100\n",
            "224/224 [==============================] - 0s 129us/sample - loss: 1.3855 - accuracy: 0.4062\n",
            "Epoch 77/100\n",
            "224/224 [==============================] - 0s 145us/sample - loss: 1.4834 - accuracy: 0.3348\n",
            "Epoch 78/100\n",
            "224/224 [==============================] - 0s 143us/sample - loss: 1.4940 - accuracy: 0.3125\n",
            "Epoch 79/100\n",
            "224/224 [==============================] - 0s 139us/sample - loss: 1.3710 - accuracy: 0.4330\n",
            "Epoch 80/100\n",
            "224/224 [==============================] - 0s 153us/sample - loss: 1.3583 - accuracy: 0.4598\n",
            "Epoch 81/100\n",
            "224/224 [==============================] - 0s 157us/sample - loss: 1.3545 - accuracy: 0.4598\n",
            "Epoch 82/100\n",
            "224/224 [==============================] - 0s 145us/sample - loss: 1.3627 - accuracy: 0.4598\n",
            "Epoch 83/100\n",
            "224/224 [==============================] - 0s 141us/sample - loss: 1.3783 - accuracy: 0.4777\n",
            "Epoch 84/100\n",
            "224/224 [==============================] - 0s 152us/sample - loss: 1.3193 - accuracy: 0.5134\n",
            "Epoch 85/100\n",
            "224/224 [==============================] - 0s 158us/sample - loss: 1.3213 - accuracy: 0.5045\n",
            "Epoch 86/100\n",
            "224/224 [==============================] - 0s 155us/sample - loss: 1.3073 - accuracy: 0.4821\n",
            "Epoch 87/100\n",
            "224/224 [==============================] - 0s 163us/sample - loss: 1.3603 - accuracy: 0.5223\n",
            "Epoch 88/100\n",
            "224/224 [==============================] - 0s 135us/sample - loss: 1.3116 - accuracy: 0.4821\n",
            "Epoch 89/100\n",
            "224/224 [==============================] - 0s 146us/sample - loss: 1.2906 - accuracy: 0.5268\n",
            "Epoch 90/100\n",
            "224/224 [==============================] - 0s 128us/sample - loss: 1.2962 - accuracy: 0.5223\n",
            "Epoch 91/100\n",
            "224/224 [==============================] - 0s 145us/sample - loss: 1.3194 - accuracy: 0.4777\n",
            "Epoch 92/100\n",
            "224/224 [==============================] - 0s 143us/sample - loss: 1.3157 - accuracy: 0.4464\n",
            "Epoch 93/100\n",
            "224/224 [==============================] - 0s 157us/sample - loss: 1.3343 - accuracy: 0.4732\n",
            "Epoch 94/100\n",
            "224/224 [==============================] - 0s 141us/sample - loss: 1.2916 - accuracy: 0.4643\n",
            "Epoch 95/100\n",
            "224/224 [==============================] - 0s 130us/sample - loss: 1.2765 - accuracy: 0.5134\n",
            "Epoch 96/100\n",
            "224/224 [==============================] - 0s 160us/sample - loss: 1.2447 - accuracy: 0.6071\n",
            "Epoch 97/100\n",
            "224/224 [==============================] - 0s 156us/sample - loss: 1.2615 - accuracy: 0.5491\n",
            "Epoch 98/100\n",
            "224/224 [==============================] - 0s 136us/sample - loss: 1.2426 - accuracy: 0.5804\n",
            "Epoch 99/100\n",
            "224/224 [==============================] - 0s 172us/sample - loss: 1.2860 - accuracy: 0.5402\n",
            "Epoch 100/100\n",
            "224/224 [==============================] - 0s 138us/sample - loss: 1.2973 - accuracy: 0.4688\n"
          ]
        }
      ]
    },
    {
      "cell_type": "markdown",
      "metadata": {
        "id": "1Xvzx1OBGC18"
      },
      "source": [
        "Visualize epoch vs accuracy of the model"
      ]
    },
    {
      "cell_type": "code",
      "metadata": {
        "colab": {
          "base_uri": "https://localhost:8080/",
          "height": 300
        },
        "id": "fQR1nxc3FVfq",
        "outputId": "4d2c2c72-7fe0-4f21-87f1-77ba13fa0594"
      },
      "source": [
        "plt.figure()\n",
        "plt.plot(model_history.history['accuracy'],label='accuracy')\n",
        "plt.xlabel(\"epoch\")\n",
        "plt.ylabel(\"accuracy\")\n",
        "plt.ylim([0,1])"
      ],
      "execution_count": null,
      "outputs": [
        {
          "output_type": "execute_result",
          "data": {
            "text/plain": [
              "(0.0, 1.0)"
            ]
          },
          "metadata": {},
          "execution_count": 16
        },
        {
          "output_type": "display_data",
          "data": {
            "image/png": "[encoded data removed]",
            "text/plain": [
              "<Figure size 432x288 with 1 Axes>"
            ]
          },
          "metadata": {
            "needs_background": "light"
          }
        }
      ]
    },
    {
      "cell_type": "markdown",
      "metadata": {
        "id": "QsWL9T0-GYIf"
      },
      "source": [
        "---\n",
        "\n",
        "Evaluate \n",
        "\n"
      ]
    },
    {
      "cell_type": "code",
      "metadata": {
        "colab": {
          "base_uri": "https://localhost:8080/"
        },
        "id": "K_U1FvusGX4y",
        "outputId": "15d473cd-fdd6-4977-fdf2-9de2f66feb65"
      },
      "source": [
        "ann_model.evaluate(x_test,y_test)"
      ],
      "execution_count": null,
      "outputs": [
        {
          "output_type": "stream",
          "name": "stdout",
          "text": [
            "\r56/1 [================================================================================================================================================================================================================================================================================================================================================================================================================================================================================================================================================================================================================================================================================================================================================================================================================================================================================================================================================================================================================================================================================================================================================================================================================================================================================================================================================================================================================================================================================================================================================================================================================================================================================================================================================] - 0s 2ms/sample - loss: 1.9165 - accuracy: 0.1250\n"
          ]
        },
        {
          "output_type": "execute_result",
          "data": {
            "text/plain": [
              "[1.8929304395403181, 0.125]"
            ]
          },
          "metadata": {},
          "execution_count": 17
        }
      ]
    },
    {
      "cell_type": "markdown",
      "metadata": {
        "id": "SYTzupJRHexY"
      },
      "source": [
        "Saving model"
      ]
    },
    {
      "cell_type": "code",
      "metadata": {
        "colab": {
          "base_uri": "https://localhost:8080/"
        },
        "id": "wgeRo3_2HeJD",
        "outputId": "1a1db0d7-e213-4374-d47f-442d29d595cd"
      },
      "source": [
        "ann_model.save('/content/drive/MyDrive/s9_dataset/saved_model/ann_model_01')"
      ],
      "execution_count": null,
      "outputs": [
        {
          "output_type": "stream",
          "name": "stdout",
          "text": [
            "WARNING:tensorflow:From /usr/local/lib/python3.7/dist-packages/tensorflow_core/python/ops/resource_variable_ops.py:1781: calling BaseResourceVariable.__init__ (from tensorflow.python.ops.resource_variable_ops) with constraint is deprecated and will be removed in a future version.\n",
            "Instructions for updating:\n",
            "If using Keras pass *_constraint arguments to layers.\n",
            "INFO:tensorflow:Assets written to: /content/drive/MyDrive/s9_dataset/saved_model/ann_model_01/assets\n"
          ]
        }
      ]
    },
    {
      "cell_type": "markdown",
      "metadata": {
        "id": "DwrpxGFVIMao"
      },
      "source": [
        "Loading model"
      ]
    },
    {
      "cell_type": "code",
      "metadata": {
        "colab": {
          "base_uri": "https://localhost:8080/"
        },
        "id": "PqpFmfm9INUw",
        "outputId": "065d0485-c3ed-47fe-d0dc-f51ef3c360ae"
      },
      "source": [
        "model_saved = keras.models.load_model('/content/drive/MyDrive/s9_dataset/saved_model/ann_model_01')\n",
        "model_saved.summary()"
      ],
      "execution_count": null,
      "outputs": [
        {
          "output_type": "stream",
          "name": "stdout",
          "text": [
            "Model: \"sequential_1\"\n",
            "_________________________________________________________________\n",
            "Layer (type)                 Output Shape              Param #   \n",
            "=================================================================\n",
            "flatten_1 (Flatten)          (None, 784)               0         \n",
            "_________________________________________________________________\n",
            "dense_2 (Dense)              (None, 100)               78500     \n",
            "_________________________________________________________________\n",
            "dense_3 (Dense)              (None, 5)                 505       \n",
            "=================================================================\n",
            "Total params: 79,005\n",
            "Trainable params: 79,005\n",
            "Non-trainable params: 0\n",
            "_________________________________________________________________\n"
          ]
        }
      ]
    },
    {
      "cell_type": "code",
      "metadata": {
        "colab": {
          "base_uri": "https://localhost:8080/"
        },
        "id": "lqB8bhtDJPG2",
        "outputId": "c66e9f80-e469-4008-d8d0-0cfeb83ce461"
      },
      "source": [
        "model_saved.evaluate(x_test,y_test)"
      ],
      "execution_count": null,
      "outputs": [
        {
          "output_type": "stream",
          "name": "stdout",
          "text": [
            "\r56/1 [================================================================================================================================================================================================================================================================================================================================================================================================================================================================================================================================================================================================================================================================================================================================================================================================================================================================================================================================================================================================================================================================================================================================================================================================================================================================================================================================================================================================================================================================================================================================================================================================================================================================================================================================================] - 0s 4ms/sample - loss: 1.9165 - accuracy: 0.1250\n"
          ]
        },
        {
          "output_type": "execute_result",
          "data": {
            "text/plain": [
              "[1.8929304395403181, 0.125]"
            ]
          },
          "metadata": {},
          "execution_count": 20
        }
      ]
    },
    {
      "cell_type": "code",
      "metadata": {
        "colab": {
          "base_uri": "https://localhost:8080/",
          "height": 282
        },
        "id": "e5576B8ISzm1",
        "outputId": "7623127d-fc41-4ae5-8653-565072da7306"
      },
      "source": [
        "img_zero = np.zeros(x_test[5].shape)\n",
        "plt.figure()\n",
        "plt.imshow(tf.squeeze(img_zero)) #using tf.squeeze on the image fixes the plt error"
      ],
      "execution_count": null,
      "outputs": [
        {
          "output_type": "execute_result",
          "data": {
            "text/plain": [
              "<matplotlib.image.AxesImage at 0x7fe364a44990>"
            ]
          },
          "metadata": {},
          "execution_count": 31
        },
        {
          "output_type": "display_data",
          "data": {
            "image/png": "[encoded data removed]",
            "text/plain": [
              "<Figure size 432x288 with 1 Axes>"
            ]
          },
          "metadata": {
            "needs_background": "light"
          }
        }
      ]
    },
    {
      "cell_type": "code",
      "metadata": {
        "colab": {
          "base_uri": "https://localhost:8080/",
          "height": 334
        },
        "id": "ONJOujz8MOX9",
        "outputId": "66ac98a7-3e67-48ee-ffda-b8ee8777c8a0"
      },
      "source": [
        "def predict_image(x,y,img_index,model,label_list):\n",
        "  # predict single image\n",
        "  img = x[img_index]\n",
        "\n",
        "  y_predict = model_saved.predict(x_test[5:6])\n",
        "  y_predict_class = np.argmax(y_pred)\n",
        "  y_predict_class = label_list[y_predict_class]\n",
        "\n",
        "  # real label\n",
        "  y_real = y[img_index]\n",
        "  y_real = label_list[y_real]\n",
        "\n",
        "  # plot\n",
        "  plt.figure(figsize=(5,5))\n",
        "  plt.imshow(tf.squeeze(img)) #squeeze the image before displaying\n",
        "  plt.xlabel(\"pred: {}, label: {}\".format(y_predict_class,y_real))\n",
        "\n",
        "\n",
        "predict_image(x_test,y_test,1,model_saved,labels)"
      ],
      "execution_count": null,
      "outputs": [
        {
          "output_type": "display_data",
          "data": {
            "image/png": "[encoded data removed]",
            "text/plain": [
              "<Figure size 360x360 with 1 Axes>"
            ]
          },
          "metadata": {
            "needs_background": "light"
          }
        }
      ]
    }
  ]
}