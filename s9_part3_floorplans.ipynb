{
  "nbformat": 4,
  "nbformat_minor": 0,
  "metadata": {
    "colab": {
      "name": "s9_part3_floorplans.ipynb",
      "provenance": [],
      "collapsed_sections": [],
      "include_colab_link": true
    },
    "kernelspec": {
      "name": "python3",
      "display_name": "Python 3"
    },
    "language_info": {
      "name": "python"
    },
    "accelerator": "GPU"
  },
  "cells": [
    {
      "cell_type": "markdown",
      "metadata": {
        "id": "view-in-github",
        "colab_type": "text"
      },
      "source": [
        "<a href=\"https://colab.research.google.com/github/andrsbtrg/S9_ML/blob/main/s9_part3_floorplans.ipynb\" target=\"_parent\"><img src=\"https://colab.research.google.com/assets/colab-badge.svg\" alt=\"Open In Colab\"/></a>"
      ]
    },
    {
      "cell_type": "markdown",
      "metadata": {
        "id": "y-oGM8nKr_SI"
      },
      "source": [
        "# Loading data"
      ]
    },
    {
      "cell_type": "markdown",
      "metadata": {
        "id": "uVUYxg3V9cmC"
      },
      "source": [
        "Mount your Google drive to access files:"
      ]
    },
    {
      "cell_type": "code",
      "metadata": {
        "colab": {
          "base_uri": "https://localhost:8080/"
        },
        "id": "a4WeyhXF76at",
        "outputId": "133827fd-3586-4386-cdec-c782ef901d4b"
      },
      "source": [
        "from google.colab import drive\n",
        "drive.mount('/content/drive')"
      ],
      "execution_count": 1,
      "outputs": [
        {
          "output_type": "stream",
          "name": "stdout",
          "text": [
            "Mounted at /content/drive\n"
          ]
        }
      ]
    },
    {
      "cell_type": "markdown",
      "metadata": {
        "id": "RuVCa8FE9jse"
      },
      "source": [
        "Install dependencies"
      ]
    },
    {
      "cell_type": "code",
      "metadata": {
        "id": "n1kqJUqw6Y4s",
        "colab": {
          "base_uri": "https://localhost:8080/"
        },
        "outputId": "0f1849ad-d5a2-4227-866e-cc1a26714619"
      },
      "source": [
        "!pip install tensorflow-gpu==2.0.0"
      ],
      "execution_count": 2,
      "outputs": [
        {
          "output_type": "stream",
          "name": "stdout",
          "text": [
            "Collecting tensorflow-gpu==2.0.0\n",
            "  Downloading tensorflow_gpu-2.0.0-cp37-cp37m-manylinux2010_x86_64.whl (380.8 MB)\n",
            "\u001b[K     |████████████████████████████████| 380.8 MB 41 kB/s \n",
            "\u001b[?25hRequirement already satisfied: protobuf>=3.6.1 in /usr/local/lib/python3.7/dist-packages (from tensorflow-gpu==2.0.0) (3.17.3)\n",
            "Requirement already satisfied: six>=1.10.0 in /usr/local/lib/python3.7/dist-packages (from tensorflow-gpu==2.0.0) (1.15.0)\n",
            "Collecting keras-applications>=1.0.8\n",
            "  Downloading Keras_Applications-1.0.8-py3-none-any.whl (50 kB)\n",
            "\u001b[K     |████████████████████████████████| 50 kB 6.8 MB/s \n",
            "\u001b[?25hCollecting tensorboard<2.1.0,>=2.0.0\n",
            "  Downloading tensorboard-2.0.2-py3-none-any.whl (3.8 MB)\n",
            "\u001b[K     |████████████████████████████████| 3.8 MB 32.3 MB/s \n",
            "\u001b[?25hCollecting tensorflow-estimator<2.1.0,>=2.0.0\n",
            "  Downloading tensorflow_estimator-2.0.1-py2.py3-none-any.whl (449 kB)\n",
            "\u001b[K     |████████████████████████████████| 449 kB 27.6 MB/s \n",
            "\u001b[?25hRequirement already satisfied: termcolor>=1.1.0 in /usr/local/lib/python3.7/dist-packages (from tensorflow-gpu==2.0.0) (1.1.0)\n",
            "Requirement already satisfied: wrapt>=1.11.1 in /usr/local/lib/python3.7/dist-packages (from tensorflow-gpu==2.0.0) (1.13.3)\n",
            "Requirement already satisfied: wheel>=0.26 in /usr/local/lib/python3.7/dist-packages (from tensorflow-gpu==2.0.0) (0.37.0)\n",
            "Requirement already satisfied: keras-preprocessing>=1.0.5 in /usr/local/lib/python3.7/dist-packages (from tensorflow-gpu==2.0.0) (1.1.2)\n",
            "Requirement already satisfied: numpy<2.0,>=1.16.0 in /usr/local/lib/python3.7/dist-packages (from tensorflow-gpu==2.0.0) (1.19.5)\n",
            "Requirement already satisfied: opt-einsum>=2.3.2 in /usr/local/lib/python3.7/dist-packages (from tensorflow-gpu==2.0.0) (3.3.0)\n",
            "Requirement already satisfied: astor>=0.6.0 in /usr/local/lib/python3.7/dist-packages (from tensorflow-gpu==2.0.0) (0.8.1)\n",
            "Requirement already satisfied: grpcio>=1.8.6 in /usr/local/lib/python3.7/dist-packages (from tensorflow-gpu==2.0.0) (1.42.0)\n",
            "Requirement already satisfied: google-pasta>=0.1.6 in /usr/local/lib/python3.7/dist-packages (from tensorflow-gpu==2.0.0) (0.2.0)\n",
            "Collecting gast==0.2.2\n",
            "  Downloading gast-0.2.2.tar.gz (10 kB)\n",
            "Requirement already satisfied: absl-py>=0.7.0 in /usr/local/lib/python3.7/dist-packages (from tensorflow-gpu==2.0.0) (0.12.0)\n",
            "Requirement already satisfied: h5py in /usr/local/lib/python3.7/dist-packages (from keras-applications>=1.0.8->tensorflow-gpu==2.0.0) (3.1.0)\n",
            "Requirement already satisfied: requests<3,>=2.21.0 in /usr/local/lib/python3.7/dist-packages (from tensorboard<2.1.0,>=2.0.0->tensorflow-gpu==2.0.0) (2.23.0)\n",
            "Requirement already satisfied: werkzeug>=0.11.15 in /usr/local/lib/python3.7/dist-packages (from tensorboard<2.1.0,>=2.0.0->tensorflow-gpu==2.0.0) (1.0.1)\n",
            "Requirement already satisfied: google-auth<2,>=1.6.3 in /usr/local/lib/python3.7/dist-packages (from tensorboard<2.1.0,>=2.0.0->tensorflow-gpu==2.0.0) (1.35.0)\n",
            "Requirement already satisfied: setuptools>=41.0.0 in /usr/local/lib/python3.7/dist-packages (from tensorboard<2.1.0,>=2.0.0->tensorflow-gpu==2.0.0) (57.4.0)\n",
            "Requirement already satisfied: markdown>=2.6.8 in /usr/local/lib/python3.7/dist-packages (from tensorboard<2.1.0,>=2.0.0->tensorflow-gpu==2.0.0) (3.3.6)\n",
            "Requirement already satisfied: google-auth-oauthlib<0.5,>=0.4.1 in /usr/local/lib/python3.7/dist-packages (from tensorboard<2.1.0,>=2.0.0->tensorflow-gpu==2.0.0) (0.4.6)\n",
            "Requirement already satisfied: cachetools<5.0,>=2.0.0 in /usr/local/lib/python3.7/dist-packages (from google-auth<2,>=1.6.3->tensorboard<2.1.0,>=2.0.0->tensorflow-gpu==2.0.0) (4.2.4)\n",
            "Requirement already satisfied: pyasn1-modules>=0.2.1 in /usr/local/lib/python3.7/dist-packages (from google-auth<2,>=1.6.3->tensorboard<2.1.0,>=2.0.0->tensorflow-gpu==2.0.0) (0.2.8)\n",
            "Requirement already satisfied: rsa<5,>=3.1.4 in /usr/local/lib/python3.7/dist-packages (from google-auth<2,>=1.6.3->tensorboard<2.1.0,>=2.0.0->tensorflow-gpu==2.0.0) (4.8)\n",
            "Requirement already satisfied: requests-oauthlib>=0.7.0 in /usr/local/lib/python3.7/dist-packages (from google-auth-oauthlib<0.5,>=0.4.1->tensorboard<2.1.0,>=2.0.0->tensorflow-gpu==2.0.0) (1.3.0)\n",
            "Requirement already satisfied: importlib-metadata>=4.4 in /usr/local/lib/python3.7/dist-packages (from markdown>=2.6.8->tensorboard<2.1.0,>=2.0.0->tensorflow-gpu==2.0.0) (4.8.2)\n",
            "Requirement already satisfied: zipp>=0.5 in /usr/local/lib/python3.7/dist-packages (from importlib-metadata>=4.4->markdown>=2.6.8->tensorboard<2.1.0,>=2.0.0->tensorflow-gpu==2.0.0) (3.6.0)\n",
            "Requirement already satisfied: typing-extensions>=3.6.4 in /usr/local/lib/python3.7/dist-packages (from importlib-metadata>=4.4->markdown>=2.6.8->tensorboard<2.1.0,>=2.0.0->tensorflow-gpu==2.0.0) (3.10.0.2)\n",
            "Requirement already satisfied: pyasn1<0.5.0,>=0.4.6 in /usr/local/lib/python3.7/dist-packages (from pyasn1-modules>=0.2.1->google-auth<2,>=1.6.3->tensorboard<2.1.0,>=2.0.0->tensorflow-gpu==2.0.0) (0.4.8)\n",
            "Requirement already satisfied: urllib3!=1.25.0,!=1.25.1,<1.26,>=1.21.1 in /usr/local/lib/python3.7/dist-packages (from requests<3,>=2.21.0->tensorboard<2.1.0,>=2.0.0->tensorflow-gpu==2.0.0) (1.24.3)\n",
            "Requirement already satisfied: idna<3,>=2.5 in /usr/local/lib/python3.7/dist-packages (from requests<3,>=2.21.0->tensorboard<2.1.0,>=2.0.0->tensorflow-gpu==2.0.0) (2.10)\n",
            "Requirement already satisfied: chardet<4,>=3.0.2 in /usr/local/lib/python3.7/dist-packages (from requests<3,>=2.21.0->tensorboard<2.1.0,>=2.0.0->tensorflow-gpu==2.0.0) (3.0.4)\n",
            "Requirement already satisfied: certifi>=2017.4.17 in /usr/local/lib/python3.7/dist-packages (from requests<3,>=2.21.0->tensorboard<2.1.0,>=2.0.0->tensorflow-gpu==2.0.0) (2021.10.8)\n",
            "Requirement already satisfied: oauthlib>=3.0.0 in /usr/local/lib/python3.7/dist-packages (from requests-oauthlib>=0.7.0->google-auth-oauthlib<0.5,>=0.4.1->tensorboard<2.1.0,>=2.0.0->tensorflow-gpu==2.0.0) (3.1.1)\n",
            "Requirement already satisfied: cached-property in /usr/local/lib/python3.7/dist-packages (from h5py->keras-applications>=1.0.8->tensorflow-gpu==2.0.0) (1.5.2)\n",
            "Building wheels for collected packages: gast\n",
            "  Building wheel for gast (setup.py) ... \u001b[?25l\u001b[?25hdone\n",
            "  Created wheel for gast: filename=gast-0.2.2-py3-none-any.whl size=7554 sha256=bfb854473987083b2f584ac457afb46695912895622b69ebd0517b9657db3c91\n",
            "  Stored in directory: /root/.cache/pip/wheels/21/7f/02/420f32a803f7d0967b48dd823da3f558c5166991bfd204eef3\n",
            "Successfully built gast\n",
            "Installing collected packages: tensorflow-estimator, tensorboard, keras-applications, gast, tensorflow-gpu\n",
            "  Attempting uninstall: tensorflow-estimator\n",
            "    Found existing installation: tensorflow-estimator 2.7.0\n",
            "    Uninstalling tensorflow-estimator-2.7.0:\n",
            "      Successfully uninstalled tensorflow-estimator-2.7.0\n",
            "  Attempting uninstall: tensorboard\n",
            "    Found existing installation: tensorboard 2.7.0\n",
            "    Uninstalling tensorboard-2.7.0:\n",
            "      Successfully uninstalled tensorboard-2.7.0\n",
            "  Attempting uninstall: gast\n",
            "    Found existing installation: gast 0.4.0\n",
            "    Uninstalling gast-0.4.0:\n",
            "      Successfully uninstalled gast-0.4.0\n",
            "\u001b[31mERROR: pip's dependency resolver does not currently take into account all the packages that are installed. This behaviour is the source of the following dependency conflicts.\n",
            "tensorflow 2.7.0 requires tensorboard~=2.6, but you have tensorboard 2.0.2 which is incompatible.\n",
            "tensorflow 2.7.0 requires tensorflow-estimator<2.8,~=2.7.0rc0, but you have tensorflow-estimator 2.0.1 which is incompatible.\n",
            "tensorflow-probability 0.15.0 requires gast>=0.3.2, but you have gast 0.2.2 which is incompatible.\u001b[0m\n",
            "Successfully installed gast-0.2.2 keras-applications-1.0.8 tensorboard-2.0.2 tensorflow-estimator-2.0.1 tensorflow-gpu-2.0.0\n"
          ]
        }
      ]
    },
    {
      "cell_type": "markdown",
      "metadata": {
        "id": "BmJMBniv9ZAf"
      },
      "source": [
        "Run to check tensorflow works"
      ]
    },
    {
      "cell_type": "code",
      "metadata": {
        "id": "K6Sm889i7eS5"
      },
      "source": [
        "from tensorflow.python.client import device_lib\n",
        "\n",
        "print(device_lib.list_local_devices())"
      ],
      "execution_count": null,
      "outputs": []
    },
    {
      "cell_type": "markdown",
      "metadata": {
        "id": "mco0mDBG9V5Q"
      },
      "source": [
        "Importing libraries"
      ]
    },
    {
      "cell_type": "code",
      "metadata": {
        "id": "lcmhL0vD8uS1"
      },
      "source": [
        "import tensorflow as tf\n",
        "from tensorflow import keras\n",
        "import numpy as np\n",
        "import matplotlib.pyplot as plt\n",
        "from pathlib import Path\n",
        "import json\n",
        "from sklearn.model_selection import train_test_split\n",
        "from google.colab.patches import cv2_imshow"
      ],
      "execution_count": 5,
      "outputs": []
    },
    {
      "cell_type": "markdown",
      "metadata": {
        "id": "iJ746VY94mmf"
      },
      "source": [
        "Function to load images"
      ]
    },
    {
      "cell_type": "code",
      "metadata": {
        "id": "8GlTtnFi9u9W"
      },
      "source": [
        "def load_images(img_paths, target_size, interpolation='nearest', color_mode='rgb', normalize=False):\n",
        "    images = []\n",
        "    for img_path in img_paths:\n",
        "        #load image\n",
        "        img = keras.preprocessing.image.load_img(img_path, color_mode=color_mode, target_size=target_size, interpolation=interpolation)\n",
        "        \n",
        "        #convert to array\n",
        "        img = keras.preprocessing.image.img_to_array(img)\n",
        "        \n",
        "        #normalize\n",
        "        if normalize:\n",
        "            img = img / 255\n",
        "        \n",
        "        #append\n",
        "        images.append(img)\n",
        "    \n",
        "    images = np.stack(images, axis=0)\n",
        "    \n",
        "    return images"
      ],
      "execution_count": 6,
      "outputs": []
    },
    {
      "cell_type": "markdown",
      "metadata": {
        "id": "lmnOnP_14ucM"
      },
      "source": [
        "Loading the data:\n",
        "\n",
        "Make sure that the path point to the specific folder \"01_shapes_shuffled\" inside the folder \"dataset\" in your drive\n",
        "\n"
      ]
    },
    {
      "cell_type": "code",
      "metadata": {
        "id": "-NVHhRub-I-V"
      },
      "source": [
        "#=======================\n",
        "#LOAD DATA\n",
        "#=======================\n",
        "#PATHS\n",
        "\n",
        "# current path\n",
        "current_folder = Path.cwd()\n",
        "\n",
        "# dataset path\n",
        "dataset_path = current_folder.joinpath(\"/content/drive/MyDrive/s9_dataset/03_floorplan_sketch\")\n",
        "# print(dataset_path)\n",
        "# subfolders path\n",
        "subfolders_path = dataset_path.glob(\"*\")\n",
        "\n",
        "# label list + subfolder list\n",
        "label_str = []\n",
        "subfolders = []\n",
        "\n",
        "# label strings\n",
        "for path in subfolders_path:\n",
        "    subfolders.append(path)\n",
        "    label_str.append(path.parts[-1])\n",
        "# image paths + labels\n",
        "labels = []\n",
        "img_paths = []\n",
        "\n",
        "for label_i, subfolder in enumerate(subfolders):\n",
        "    for img_path in subfolder.glob(\"*.png\"):\n",
        "        img_paths.append(str(img_path))\n",
        "        labels.append(label_i)\n",
        "\n",
        "# convert labels and images to numpy array \n",
        "labels = np.stack(labels, axis = 0)"
      ],
      "execution_count": 9,
      "outputs": []
    },
    {
      "cell_type": "markdown",
      "metadata": {
        "id": "wSYHRLGN4sPl"
      },
      "source": [
        "Loading the images and the labels:"
      ]
    },
    {
      "cell_type": "code",
      "metadata": {
        "id": "o9--NetC-397",
        "colab": {
          "base_uri": "https://localhost:8080/"
        },
        "outputId": "2d849f68-338f-4e51-9313-41ae0f91ca62"
      },
      "source": [
        "# Load images\n",
        "images = load_images(img_paths, target_size=(256,256), interpolation='bicubic', color_mode='grayscale', normalize=True)\n",
        "\n",
        "#-----------------------\n",
        "#SPLIT DATA\n",
        "x_train, x_test, y_train, y_test = train_test_split(images, labels, test_size=0.2, random_state=40)\n",
        "print(x_train.shape, x_test.shape)\n",
        "print(y_train.shape, y_test.shape)"
      ],
      "execution_count": 11,
      "outputs": [
        {
          "output_type": "stream",
          "name": "stdout",
          "text": [
            "(169, 256, 256, 1) (43, 256, 256, 1)\n",
            "(169,) (43,)\n"
          ]
        }
      ]
    },
    {
      "cell_type": "markdown",
      "metadata": {
        "id": "QLAqWhuafxLx"
      },
      "source": [
        "**Image augmentation**"
      ]
    },
    {
      "cell_type": "code",
      "metadata": {
        "colab": {
          "base_uri": "https://localhost:8080/",
          "height": 286
        },
        "id": "I9UpTAX-alqs",
        "outputId": "ac822190-4d91-4ddc-fe16-4a20f7570798"
      },
      "source": [
        "# Augmentation\n",
        "\n",
        "# generator\n",
        "img_datagenerator = keras.preprocessing.image.ImageDataGenerator(\n",
        "    rotation_range = 20,\n",
        "    horizontal_flip = True,\n",
        "    vertical_flip = True,\n",
        "    fill_mode = 'constant',\n",
        "    cval = 1.0,\n",
        "    validation_split = 0.15)\n",
        "# batch size\n",
        "batch_size_train = 1\n",
        "batch_size_val = 1\n",
        "\n",
        "# train generator, test generator\n",
        "train_generator = img_datagenerator.flow(x_train, y_train, batch_size=batch_size_train, subset='training')\n",
        "valid_generator = img_datagenerator.flow(x_train, y_train, batch_size=batch_size_train, subset='validation')\n",
        "\n",
        "steps_per_epoch_train = train_generator.n // train_generator.batch_size\n",
        "steps_per_epoch_valid = valid_generator.n // valid_generator.batch_size\n",
        "\n",
        "# preview\n",
        "\n",
        "img_rand = train_generator.next()[0][0]\n",
        "plt.figure()\n",
        "plt.imshow(tf.squeeze(img_rand))"
      ],
      "execution_count": 33,
      "outputs": [
        {
          "output_type": "execute_result",
          "data": {
            "text/plain": [
              "<matplotlib.image.AxesImage at 0x7f1362ddcad0>"
            ]
          },
          "metadata": {},
          "execution_count": 33
        },
        {
          "output_type": "display_data",
          "data": {
            "image/png": "[encoded data removed]",
            "text/plain": [
              "<Figure size 432x288 with 1 Axes>"
            ]
          },
          "metadata": {
            "needs_background": "light"
          }
        }
      ]
    },
    {
      "cell_type": "markdown",
      "metadata": {
        "id": "RTf51zGTb6wT"
      },
      "source": [
        ""
      ]
    },
    {
      "cell_type": "markdown",
      "metadata": {
        "id": "883ZmZpgq_1P"
      },
      "source": [
        "# First Model"
      ]
    },
    {
      "cell_type": "markdown",
      "metadata": {
        "id": "aJLd4NJ4HAVW"
      },
      "source": [
        "Architecture of the model:\n"
      ]
    },
    {
      "cell_type": "code",
      "metadata": {
        "id": "b5PvPZ4U_s6q"
      },
      "source": [
        "#=======================\n",
        "#ARTIFICIAL NEURAL NETWORK\n",
        "#=======================\n",
        "\n",
        "ann_model = keras.Sequential([\n",
        "                              # Input Layer\n",
        "                              keras.layers.Flatten(input_shape = (28,28,1)),\n",
        "                              # Hidden Layer\n",
        "                              keras.layers.Dense(units=100, activation = 'relu'),\n",
        "                              # Output Layer\n",
        "                              keras.layers.Dense(units = 5, activation= 'softmax'),\n",
        "])"
      ],
      "execution_count": null,
      "outputs": []
    },
    {
      "cell_type": "markdown",
      "metadata": {
        "id": "OuW5_7iorbJa"
      },
      "source": [
        "# Second Model: Convolutional Neural Network"
      ]
    },
    {
      "cell_type": "markdown",
      "metadata": {
        "id": "tDiYmCwfvndu"
      },
      "source": [
        "Architecture:"
      ]
    },
    {
      "cell_type": "code",
      "metadata": {
        "id": "XZZmAtRsrgEZ"
      },
      "source": [
        "ann_model = None\n",
        "ann_model = keras.Sequential([                              \n",
        "                              # CONVOLUTIONAL NETWORK\n",
        "                              ##    Convolution 01\n",
        "                              keras.layers.Conv2D(filters=64, kernel_size=(3,3),activation='relu',input_shape = (256,256,1)),\n",
        "                              keras.layers.MaxPool2D(pool_size=(2,2)),\n",
        "                              ##    Convolution 02\n",
        "                              keras.layers.Conv2D(filters=128, kernel_size=(3,3),activation='relu'),\n",
        "                              keras.layers.MaxPool2D(pool_size=(2,2)),\n",
        "                              ##    Convolution 03\n",
        "                              keras.layers.Conv2D(filters=256, kernel_size=(3,3),activation='relu'),\n",
        "                              keras.layers.MaxPool2D(pool_size=(2,2)),\n",
        "\n",
        "                              # FULLY CONNECTED NETWORK\n",
        "                              # Input Layer\n",
        "                              keras.layers.Flatten(),\n",
        "\n",
        "                              # Hidden Layer\n",
        "                              keras.layers.Dense(units=256, activation = 'relu'),\n",
        "                              # Output Layer\n",
        "                              keras.layers.Dense(units = 2, activation= 'softmax'),\n",
        "])"
      ],
      "execution_count": 32,
      "outputs": []
    },
    {
      "cell_type": "markdown",
      "metadata": {
        "id": "42ZzIrpRuzn6"
      },
      "source": [
        "# Traning and Evaluating"
      ]
    },
    {
      "cell_type": "markdown",
      "metadata": {
        "id": "qucGsZoqCTAB"
      },
      "source": [
        "Set the Optimizer"
      ]
    },
    {
      "cell_type": "code",
      "metadata": {
        "id": "jU89zmi7CQ0K",
        "colab": {
          "base_uri": "https://localhost:8080/"
        },
        "outputId": "b3f19857-4b93-445e-b761-4b0ade4efcb1"
      },
      "source": [
        "ann_model.compile(optimizer = 'Adam',\n",
        "                  loss = 'sparse_categorical_crossentropy',\n",
        "                  metrics = ['accuracy'],\n",
        "                  )\n",
        "# Summary\n",
        "ann_model.summary()\n",
        "model_history = None"
      ],
      "execution_count": 35,
      "outputs": [
        {
          "output_type": "stream",
          "name": "stdout",
          "text": [
            "Model: \"sequential_1\"\n",
            "_________________________________________________________________\n",
            "Layer (type)                 Output Shape              Param #   \n",
            "=================================================================\n",
            "conv2d_3 (Conv2D)            (None, 254, 254, 64)      640       \n",
            "_________________________________________________________________\n",
            "max_pooling2d_3 (MaxPooling2 (None, 127, 127, 64)      0         \n",
            "_________________________________________________________________\n",
            "conv2d_4 (Conv2D)            (None, 125, 125, 128)     73856     \n",
            "_________________________________________________________________\n",
            "max_pooling2d_4 (MaxPooling2 (None, 62, 62, 128)       0         \n",
            "_________________________________________________________________\n",
            "conv2d_5 (Conv2D)            (None, 60, 60, 256)       295168    \n",
            "_________________________________________________________________\n",
            "max_pooling2d_5 (MaxPooling2 (None, 30, 30, 256)       0         \n",
            "_________________________________________________________________\n",
            "flatten_1 (Flatten)          (None, 230400)            0         \n",
            "_________________________________________________________________\n",
            "dense_2 (Dense)              (None, 256)               58982656  \n",
            "_________________________________________________________________\n",
            "dense_3 (Dense)              (None, 2)                 514       \n",
            "=================================================================\n",
            "Total params: 59,352,834\n",
            "Trainable params: 59,352,834\n",
            "Non-trainable params: 0\n",
            "_________________________________________________________________\n"
          ]
        }
      ]
    },
    {
      "cell_type": "markdown",
      "metadata": {
        "id": "NmN9uoe6DxYd"
      },
      "source": [
        "**Training**"
      ]
    },
    {
      "cell_type": "code",
      "metadata": {
        "id": "20Kz1s-VDzTm",
        "colab": {
          "base_uri": "https://localhost:8080/"
        },
        "collapsed": true,
        "outputId": "42dbbf22-10c4-4454-dbe2-a71cc2a387a6"
      },
      "source": [
        "model_history = ann_model.fit(train_generator, \n",
        "                                  validation_data=valid_generator,\n",
        "                                  steps_per_epoch=steps_per_epoch_train,\n",
        "                                  validation_steps=steps_per_epoch_valid,\n",
        "                                  epochs=300)"
      ],
      "execution_count": null,
      "outputs": [
        {
          "output_type": "stream",
          "name": "stdout",
          "text": [
            "Train for 144 steps, validate for 25 steps\n",
            "Epoch 1/300\n",
            "144/144 [==============================] - 8s 53ms/step - loss: 0.9838 - accuracy: 0.4861 - val_loss: 0.6869 - val_accuracy: 0.6800\n",
            "Epoch 2/300\n",
            "144/144 [==============================] - 7s 46ms/step - loss: 0.6916 - accuracy: 0.5764 - val_loss: 0.6802 - val_accuracy: 0.6800\n",
            "Epoch 3/300\n",
            "144/144 [==============================] - 7s 46ms/step - loss: 0.6848 - accuracy: 0.6042 - val_loss: 0.6731 - val_accuracy: 0.6800\n",
            "Epoch 4/300\n",
            "144/144 [==============================] - 7s 46ms/step - loss: 0.6445 - accuracy: 0.6389 - val_loss: 0.9448 - val_accuracy: 0.4400\n",
            "Epoch 5/300\n",
            "144/144 [==============================] - 7s 47ms/step - loss: 0.7927 - accuracy: 0.6250 - val_loss: 0.6202 - val_accuracy: 0.6800\n",
            "Epoch 6/300\n",
            "144/144 [==============================] - 7s 46ms/step - loss: 0.6762 - accuracy: 0.6250 - val_loss: 0.6434 - val_accuracy: 0.6800\n",
            "Epoch 7/300\n",
            "144/144 [==============================] - 7s 46ms/step - loss: 0.6236 - accuracy: 0.7222 - val_loss: 0.4315 - val_accuracy: 0.7600\n",
            "Epoch 8/300\n",
            "144/144 [==============================] - 7s 47ms/step - loss: 0.7658 - accuracy: 0.6181 - val_loss: 0.6386 - val_accuracy: 0.6800\n",
            "Epoch 9/300\n",
            "144/144 [==============================] - 7s 46ms/step - loss: 0.6886 - accuracy: 0.6042 - val_loss: 0.6680 - val_accuracy: 0.6800\n",
            "Epoch 10/300\n",
            "144/144 [==============================] - 7s 46ms/step - loss: 0.6363 - accuracy: 0.6181 - val_loss: 0.3640 - val_accuracy: 0.8400\n",
            "Epoch 11/300\n",
            "144/144 [==============================] - 7s 46ms/step - loss: 0.4689 - accuracy: 0.7153 - val_loss: 0.3667 - val_accuracy: 0.7600\n",
            "Epoch 12/300\n",
            "144/144 [==============================] - 7s 46ms/step - loss: 0.4158 - accuracy: 0.8056 - val_loss: 0.3934 - val_accuracy: 0.7600\n",
            "Epoch 13/300\n",
            "144/144 [==============================] - 7s 46ms/step - loss: 0.4043 - accuracy: 0.8819 - val_loss: 0.3599 - val_accuracy: 0.7600\n",
            "Epoch 14/300\n",
            "144/144 [==============================] - 7s 46ms/step - loss: 0.2870 - accuracy: 0.9028 - val_loss: 0.3788 - val_accuracy: 0.7600\n",
            "Epoch 15/300\n",
            "144/144 [==============================] - 7s 46ms/step - loss: 0.2721 - accuracy: 0.8958 - val_loss: 0.3951 - val_accuracy: 0.8000\n",
            "Epoch 16/300\n",
            "144/144 [==============================] - 7s 46ms/step - loss: 0.2903 - accuracy: 0.9097 - val_loss: 0.3735 - val_accuracy: 0.8000\n",
            "Epoch 17/300\n",
            "144/144 [==============================] - 7s 46ms/step - loss: 0.2537 - accuracy: 0.9028 - val_loss: 0.4614 - val_accuracy: 0.7600\n",
            "Epoch 18/300\n",
            "144/144 [==============================] - 7s 46ms/step - loss: 0.2503 - accuracy: 0.9097 - val_loss: 0.3871 - val_accuracy: 0.8000\n",
            "Epoch 19/300\n",
            "144/144 [==============================] - 7s 46ms/step - loss: 0.2477 - accuracy: 0.9097 - val_loss: 0.3956 - val_accuracy: 0.8000\n",
            "Epoch 20/300\n",
            "144/144 [==============================] - 7s 46ms/step - loss: 0.3278 - accuracy: 0.8819 - val_loss: 0.3902 - val_accuracy: 0.8000\n",
            "Epoch 21/300\n",
            "144/144 [==============================] - 7s 46ms/step - loss: 0.2950 - accuracy: 0.9028 - val_loss: 0.4221 - val_accuracy: 0.8400\n",
            "Epoch 22/300\n",
            "144/144 [==============================] - 7s 46ms/step - loss: 0.2731 - accuracy: 0.8958 - val_loss: 0.4524 - val_accuracy: 0.8400\n",
            "Epoch 23/300\n",
            "144/144 [==============================] - 7s 47ms/step - loss: 0.2895 - accuracy: 0.9028 - val_loss: 0.4318 - val_accuracy: 0.7600\n",
            "Epoch 24/300\n",
            "144/144 [==============================] - 7s 47ms/step - loss: 0.2415 - accuracy: 0.9097 - val_loss: 0.3795 - val_accuracy: 0.8400\n",
            "Epoch 25/300\n",
            "144/144 [==============================] - 7s 47ms/step - loss: 0.2529 - accuracy: 0.9236 - val_loss: 0.4401 - val_accuracy: 0.8000\n",
            "Epoch 26/300\n",
            "144/144 [==============================] - 7s 46ms/step - loss: 0.2656 - accuracy: 0.9097 - val_loss: 0.4320 - val_accuracy: 0.7600\n",
            "Epoch 27/300\n",
            "144/144 [==============================] - 7s 46ms/step - loss: 0.2379 - accuracy: 0.9028 - val_loss: 0.4107 - val_accuracy: 0.7600\n",
            "Epoch 28/300\n",
            "144/144 [==============================] - 7s 46ms/step - loss: 0.2459 - accuracy: 0.9097 - val_loss: 0.3770 - val_accuracy: 0.8400\n",
            "Epoch 29/300\n",
            "144/144 [==============================] - 7s 46ms/step - loss: 0.2142 - accuracy: 0.9236 - val_loss: 0.3842 - val_accuracy: 0.8400\n",
            "Epoch 30/300\n",
            "144/144 [==============================] - 7s 47ms/step - loss: 0.2321 - accuracy: 0.9167 - val_loss: 0.4503 - val_accuracy: 0.8000\n",
            "Epoch 31/300\n",
            "144/144 [==============================] - 7s 46ms/step - loss: 0.2164 - accuracy: 0.9167 - val_loss: 0.3985 - val_accuracy: 0.8000\n",
            "Epoch 32/300\n",
            "144/144 [==============================] - 7s 46ms/step - loss: 0.2408 - accuracy: 0.9167 - val_loss: 0.4141 - val_accuracy: 0.8000\n",
            "Epoch 33/300\n",
            "144/144 [==============================] - 7s 47ms/step - loss: 0.2579 - accuracy: 0.9028 - val_loss: 0.4172 - val_accuracy: 0.7600\n",
            "Epoch 34/300\n",
            "144/144 [==============================] - 7s 46ms/step - loss: 0.2273 - accuracy: 0.9097 - val_loss: 0.3963 - val_accuracy: 0.8000\n",
            "Epoch 35/300\n",
            "144/144 [==============================] - 7s 46ms/step - loss: 0.2295 - accuracy: 0.9167 - val_loss: 0.3809 - val_accuracy: 0.8000\n",
            "Epoch 36/300\n",
            "144/144 [==============================] - 7s 46ms/step - loss: 0.2045 - accuracy: 0.9306 - val_loss: 0.3831 - val_accuracy: 0.8000\n",
            "Epoch 37/300\n",
            "144/144 [==============================] - 7s 46ms/step - loss: 0.2118 - accuracy: 0.9167 - val_loss: 0.4184 - val_accuracy: 0.8000\n",
            "Epoch 38/300\n",
            "144/144 [==============================] - 6s 45ms/step - loss: 0.2139 - accuracy: 0.9167 - val_loss: 0.3886 - val_accuracy: 0.8000\n",
            "Epoch 39/300\n",
            "144/144 [==============================] - 7s 45ms/step - loss: 0.2112 - accuracy: 0.9306 - val_loss: 0.4192 - val_accuracy: 0.7600\n",
            "Epoch 40/300\n",
            "144/144 [==============================] - 6s 45ms/step - loss: 0.2385 - accuracy: 0.9167 - val_loss: 1.2364 - val_accuracy: 0.7600\n",
            "Epoch 41/300\n",
            "144/144 [==============================] - 6s 45ms/step - loss: 0.2019 - accuracy: 0.9306 - val_loss: 0.4155 - val_accuracy: 0.7600\n",
            "Epoch 42/300\n",
            "144/144 [==============================] - 6s 45ms/step - loss: 0.2046 - accuracy: 0.9236 - val_loss: 0.3757 - val_accuracy: 0.8000\n",
            "Epoch 43/300\n",
            "144/144 [==============================] - 6s 45ms/step - loss: 0.2242 - accuracy: 0.9236 - val_loss: 0.3973 - val_accuracy: 0.8400\n",
            "Epoch 44/300\n",
            "144/144 [==============================] - 7s 45ms/step - loss: 0.1940 - accuracy: 0.9306 - val_loss: 0.7681 - val_accuracy: 0.7600\n",
            "Epoch 45/300\n",
            "144/144 [==============================] - 6s 45ms/step - loss: 0.1850 - accuracy: 0.9306 - val_loss: 0.5850 - val_accuracy: 0.7600\n",
            "Epoch 46/300\n",
            "144/144 [==============================] - 6s 45ms/step - loss: 0.2199 - accuracy: 0.9236 - val_loss: 0.4831 - val_accuracy: 0.7600\n",
            "Epoch 47/300\n",
            "144/144 [==============================] - 6s 45ms/step - loss: 0.1991 - accuracy: 0.9167 - val_loss: 0.4092 - val_accuracy: 0.8000\n",
            "Epoch 48/300\n",
            "144/144 [==============================] - 6s 45ms/step - loss: 0.2205 - accuracy: 0.9236 - val_loss: 0.3595 - val_accuracy: 0.8400\n",
            "Epoch 49/300\n",
            "144/144 [==============================] - 6s 45ms/step - loss: 0.2330 - accuracy: 0.9167 - val_loss: 0.3824 - val_accuracy: 0.8000\n",
            "Epoch 50/300\n",
            "144/144 [==============================] - 7s 45ms/step - loss: 0.2101 - accuracy: 0.9306 - val_loss: 0.4437 - val_accuracy: 0.7600\n",
            "Epoch 51/300\n",
            "144/144 [==============================] - 7s 46ms/step - loss: 0.1928 - accuracy: 0.9306 - val_loss: 0.3989 - val_accuracy: 0.8000\n",
            "Epoch 52/300\n",
            "144/144 [==============================] - 7s 45ms/step - loss: 0.1791 - accuracy: 0.9375 - val_loss: 0.3957 - val_accuracy: 0.7600\n",
            "Epoch 53/300\n",
            "144/144 [==============================] - 7s 46ms/step - loss: 0.1804 - accuracy: 0.9375 - val_loss: 0.4987 - val_accuracy: 0.8000\n",
            "Epoch 54/300\n",
            "144/144 [==============================] - 7s 45ms/step - loss: 0.1862 - accuracy: 0.9375 - val_loss: 0.3505 - val_accuracy: 0.8400\n",
            "Epoch 55/300\n",
            "144/144 [==============================] - 7s 46ms/step - loss: 0.2003 - accuracy: 0.9306 - val_loss: 0.3818 - val_accuracy: 0.8400\n",
            "Epoch 56/300\n",
            "144/144 [==============================] - 7s 45ms/step - loss: 0.1718 - accuracy: 0.9306 - val_loss: 0.3659 - val_accuracy: 0.8400\n",
            "Epoch 57/300\n",
            "144/144 [==============================] - 7s 45ms/step - loss: 0.1780 - accuracy: 0.9375 - val_loss: 0.3571 - val_accuracy: 0.8400\n",
            "Epoch 58/300\n",
            "144/144 [==============================] - 7s 45ms/step - loss: 0.2568 - accuracy: 0.9097 - val_loss: 0.3620 - val_accuracy: 0.8000\n",
            "Epoch 59/300\n",
            "144/144 [==============================] - 7s 45ms/step - loss: 1.2255 - accuracy: 0.8611 - val_loss: 4.5992 - val_accuracy: 0.7600\n",
            "Epoch 60/300\n",
            "144/144 [==============================] - 7s 45ms/step - loss: 1.2021 - accuracy: 0.9028 - val_loss: 0.6347 - val_accuracy: 0.6800\n",
            "Epoch 61/300\n",
            "144/144 [==============================] - 7s 47ms/step - loss: 0.2642 - accuracy: 0.8681 - val_loss: 0.5352 - val_accuracy: 0.7200\n",
            "Epoch 62/300\n",
            "144/144 [==============================] - 7s 46ms/step - loss: 0.1938 - accuracy: 0.9375 - val_loss: 0.3869 - val_accuracy: 0.8000\n",
            "Epoch 63/300\n",
            "144/144 [==============================] - 7s 46ms/step - loss: 0.2184 - accuracy: 0.9236 - val_loss: 0.3737 - val_accuracy: 0.8000\n",
            "Epoch 64/300\n",
            "144/144 [==============================] - 7s 47ms/step - loss: 0.1939 - accuracy: 0.9306 - val_loss: 0.4076 - val_accuracy: 0.8000\n",
            "Epoch 65/300\n",
            "144/144 [==============================] - 7s 46ms/step - loss: 0.1898 - accuracy: 0.9306 - val_loss: 0.3413 - val_accuracy: 0.8400\n",
            "Epoch 66/300\n",
            "144/144 [==============================] - 7s 46ms/step - loss: 0.2155 - accuracy: 0.9097 - val_loss: 0.4095 - val_accuracy: 0.7600\n",
            "Epoch 67/300\n",
            "144/144 [==============================] - 7s 46ms/step - loss: 0.1874 - accuracy: 0.9306 - val_loss: 0.3542 - val_accuracy: 0.8400\n",
            "Epoch 68/300\n",
            "144/144 [==============================] - 7s 46ms/step - loss: 0.1817 - accuracy: 0.9375 - val_loss: 0.3930 - val_accuracy: 0.8000\n",
            "Epoch 69/300\n",
            "144/144 [==============================] - 7s 46ms/step - loss: 0.2034 - accuracy: 0.9167 - val_loss: 0.4084 - val_accuracy: 0.8000\n",
            "Epoch 70/300\n",
            "144/144 [==============================] - 7s 46ms/step - loss: 0.1876 - accuracy: 0.9375 - val_loss: 0.3721 - val_accuracy: 0.8000\n",
            "Epoch 71/300\n",
            "144/144 [==============================] - 7s 46ms/step - loss: 0.3257 - accuracy: 0.9306 - val_loss: 0.6591 - val_accuracy: 0.7600\n",
            "Epoch 72/300\n",
            "144/144 [==============================] - 7s 46ms/step - loss: 0.1802 - accuracy: 0.9375 - val_loss: 0.9006 - val_accuracy: 0.7600\n",
            "Epoch 73/300\n",
            "144/144 [==============================] - 7s 46ms/step - loss: 0.2191 - accuracy: 0.9306 - val_loss: 0.3795 - val_accuracy: 0.7600\n",
            "Epoch 74/300\n",
            "144/144 [==============================] - 7s 46ms/step - loss: 0.1988 - accuracy: 0.9306 - val_loss: 0.5551 - val_accuracy: 0.8000\n",
            "Epoch 75/300\n",
            "144/144 [==============================] - 7s 46ms/step - loss: 0.2252 - accuracy: 0.9167 - val_loss: 0.3933 - val_accuracy: 0.8000\n",
            "Epoch 76/300\n",
            "144/144 [==============================] - 7s 46ms/step - loss: 0.1923 - accuracy: 0.9375 - val_loss: 0.3761 - val_accuracy: 0.8000\n",
            "Epoch 77/300\n",
            "144/144 [==============================] - 7s 46ms/step - loss: 0.1723 - accuracy: 0.9375 - val_loss: 0.4044 - val_accuracy: 0.8000\n",
            "Epoch 78/300\n",
            "144/144 [==============================] - 7s 46ms/step - loss: 0.1743 - accuracy: 0.9375 - val_loss: 0.5007 - val_accuracy: 0.8000\n",
            "Epoch 79/300\n",
            "144/144 [==============================] - 7s 47ms/step - loss: 0.1728 - accuracy: 0.9375 - val_loss: 0.3529 - val_accuracy: 0.8400\n",
            "Epoch 80/300\n",
            "144/144 [==============================] - 7s 46ms/step - loss: 0.1847 - accuracy: 0.9236 - val_loss: 0.3992 - val_accuracy: 0.8000\n",
            "Epoch 81/300\n",
            "144/144 [==============================] - 7s 46ms/step - loss: 0.1662 - accuracy: 0.9375 - val_loss: 0.4024 - val_accuracy: 0.8000\n",
            "Epoch 82/300\n",
            "144/144 [==============================] - 7s 47ms/step - loss: 0.1648 - accuracy: 0.9375 - val_loss: 0.6515 - val_accuracy: 0.8000\n",
            "Epoch 83/300\n",
            "144/144 [==============================] - 7s 47ms/step - loss: 0.2239 - accuracy: 0.9306 - val_loss: 0.5886 - val_accuracy: 0.7600\n",
            "Epoch 84/300\n",
            "144/144 [==============================] - 7s 47ms/step - loss: 0.5056 - accuracy: 0.8889 - val_loss: 0.5688 - val_accuracy: 0.7600\n",
            "Epoch 85/300\n",
            "144/144 [==============================] - 7s 46ms/step - loss: 0.3715 - accuracy: 0.8958 - val_loss: 0.4908 - val_accuracy: 0.7600\n",
            "Epoch 86/300\n",
            "144/144 [==============================] - 7s 47ms/step - loss: 0.3530 - accuracy: 0.9028 - val_loss: 1.1155 - val_accuracy: 0.6800\n",
            "Epoch 87/300\n",
            "144/144 [==============================] - 7s 47ms/step - loss: 0.3097 - accuracy: 0.9306 - val_loss: 0.5923 - val_accuracy: 0.8000\n",
            "Epoch 88/300\n",
            "144/144 [==============================] - 7s 47ms/step - loss: 0.1899 - accuracy: 0.9306 - val_loss: 0.4670 - val_accuracy: 0.8000\n",
            "Epoch 89/300\n",
            "144/144 [==============================] - 7s 47ms/step - loss: 0.1890 - accuracy: 0.9375 - val_loss: 0.4443 - val_accuracy: 0.8000\n",
            "Epoch 90/300\n",
            "144/144 [==============================] - 7s 47ms/step - loss: 0.1987 - accuracy: 0.9375 - val_loss: 0.4815 - val_accuracy: 0.7600\n",
            "Epoch 91/300\n",
            "144/144 [==============================] - 7s 47ms/step - loss: 0.2340 - accuracy: 0.9236 - val_loss: 1.9604 - val_accuracy: 0.7200\n",
            "Epoch 92/300\n",
            "144/144 [==============================] - 7s 46ms/step - loss: 0.2928 - accuracy: 0.9306 - val_loss: 0.3914 - val_accuracy: 0.7600\n",
            "Epoch 93/300\n",
            "144/144 [==============================] - 7s 46ms/step - loss: 0.2939 - accuracy: 0.9167 - val_loss: 0.4861 - val_accuracy: 0.8000\n",
            "Epoch 94/300\n",
            "144/144 [==============================] - 7s 46ms/step - loss: 0.1933 - accuracy: 0.9306 - val_loss: 0.3920 - val_accuracy: 0.8000\n",
            "Epoch 95/300\n",
            "144/144 [==============================] - 7s 46ms/step - loss: 0.1924 - accuracy: 0.9375 - val_loss: 0.3274 - val_accuracy: 0.8000\n",
            "Epoch 96/300\n",
            "144/144 [==============================] - 7s 46ms/step - loss: 0.1858 - accuracy: 0.9236 - val_loss: 0.3677 - val_accuracy: 0.8400\n",
            "Epoch 97/300\n",
            "144/144 [==============================] - 7s 46ms/step - loss: 0.4520 - accuracy: 0.9167 - val_loss: 0.3218 - val_accuracy: 0.8400\n",
            "Epoch 98/300\n",
            "144/144 [==============================] - 7s 46ms/step - loss: 0.1948 - accuracy: 0.9236 - val_loss: 0.4944 - val_accuracy: 0.8000\n",
            "Epoch 99/300\n",
            "144/144 [==============================] - 7s 46ms/step - loss: 0.2215 - accuracy: 0.9236 - val_loss: 0.3163 - val_accuracy: 0.8400\n",
            "Epoch 100/300\n",
            "144/144 [==============================] - 7s 47ms/step - loss: 0.1817 - accuracy: 0.9375 - val_loss: 0.4217 - val_accuracy: 0.8000\n",
            "Epoch 101/300\n",
            "144/144 [==============================] - 7s 46ms/step - loss: 0.2337 - accuracy: 0.9306 - val_loss: 0.2929 - val_accuracy: 0.8400\n",
            "Epoch 102/300\n",
            "144/144 [==============================] - 7s 46ms/step - loss: 0.1728 - accuracy: 0.9375 - val_loss: 0.4287 - val_accuracy: 0.8000\n",
            "Epoch 103/300\n",
            "144/144 [==============================] - 7s 46ms/step - loss: 0.2637 - accuracy: 0.9167 - val_loss: 0.6336 - val_accuracy: 0.7600\n",
            "Epoch 104/300\n",
            "144/144 [==============================] - 7s 46ms/step - loss: 0.1791 - accuracy: 0.9306 - val_loss: 0.4505 - val_accuracy: 0.8000\n",
            "Epoch 105/300\n",
            "144/144 [==============================] - 7s 46ms/step - loss: 0.1736 - accuracy: 0.9375 - val_loss: 0.3289 - val_accuracy: 0.8400\n",
            "Epoch 106/300\n",
            "144/144 [==============================] - 7s 47ms/step - loss: 0.1717 - accuracy: 0.9375 - val_loss: 0.7128 - val_accuracy: 0.7600\n",
            "Epoch 107/300\n",
            "144/144 [==============================] - 7s 46ms/step - loss: 0.3815 - accuracy: 0.9028 - val_loss: 0.4732 - val_accuracy: 0.7600\n",
            "Epoch 108/300\n",
            "144/144 [==============================] - 7s 46ms/step - loss: 0.2147 - accuracy: 0.9236 - val_loss: 0.5182 - val_accuracy: 0.8000\n",
            "Epoch 109/300\n",
            "144/144 [==============================] - 7s 46ms/step - loss: 0.1850 - accuracy: 0.9375 - val_loss: 0.3804 - val_accuracy: 0.8000\n",
            "Epoch 110/300\n",
            "144/144 [==============================] - 7s 46ms/step - loss: 0.1710 - accuracy: 0.9375 - val_loss: 0.4049 - val_accuracy: 0.8000\n",
            "Epoch 111/300\n",
            "144/144 [==============================] - 7s 46ms/step - loss: 0.1735 - accuracy: 0.9375 - val_loss: 0.3129 - val_accuracy: 0.8400\n",
            "Epoch 112/300\n",
            "144/144 [==============================] - 7s 46ms/step - loss: 0.1840 - accuracy: 0.9375 - val_loss: 0.3534 - val_accuracy: 0.8400\n",
            "Epoch 113/300\n",
            "144/144 [==============================] - 7s 46ms/step - loss: 0.2747 - accuracy: 0.9306 - val_loss: 0.5039 - val_accuracy: 0.7600\n",
            "Epoch 114/300\n",
            "144/144 [==============================] - 7s 46ms/step - loss: 0.1703 - accuracy: 0.9375 - val_loss: 0.3991 - val_accuracy: 0.8000\n",
            "Epoch 115/300\n",
            "144/144 [==============================] - 7s 46ms/step - loss: 0.1648 - accuracy: 0.9375 - val_loss: 0.2901 - val_accuracy: 0.8400\n",
            "Epoch 116/300\n",
            " 11/144 [=>............................] - ETA: 13s - loss: 0.1923 - accuracy: 0.9091"
          ]
        }
      ]
    },
    {
      "cell_type": "markdown",
      "metadata": {
        "id": "1Xvzx1OBGC18"
      },
      "source": [
        "Visualize epoch vs accuracy of the model"
      ]
    },
    {
      "cell_type": "code",
      "metadata": {
        "colab": {
          "base_uri": "https://localhost:8080/",
          "height": 300
        },
        "id": "3LImNHGAj52f",
        "outputId": "8d8374b9-760d-4dc9-844a-3381e5d44fe0"
      },
      "source": [
        "plt.figure()\n",
        "plt.plot(model_history.history['accuracy'],label='accuracy')\n",
        "plt.plot(model_history.history['val_accuracy'], label='val_accuracy')\n",
        "plt.xlabel(\"epoch\")\n",
        "plt.ylabel(\"accuracy\")\n",
        "plt.ylim([0,1])"
      ],
      "execution_count": 15,
      "outputs": [
        {
          "output_type": "execute_result",
          "data": {
            "text/plain": [
              "(0.0, 1.0)"
            ]
          },
          "metadata": {},
          "execution_count": 15
        },
        {
          "output_type": "display_data",
          "data": {
            "image/png": "[encoded data removed]",
            "text/plain": [
              "<Figure size 432x288 with 1 Axes>"
            ]
          },
          "metadata": {
            "needs_background": "light"
          }
        }
      ]
    },
    {
      "cell_type": "code",
      "metadata": {
        "id": "fQR1nxc3FVfq",
        "colab": {
          "base_uri": "https://localhost:8080/",
          "height": 300
        },
        "outputId": "7400c7c4-c6f5-406d-b66e-90b9516be58a"
      },
      "source": [
        "plt.figure()\n",
        "plt.plot(model_history.history['loss'],label='loss')\n",
        "plt.xlabel(\"epoch\")\n",
        "plt.ylabel(\"loss\")\n",
        "plt.ylim([0,2])"
      ],
      "execution_count": null,
      "outputs": [
        {
          "output_type": "execute_result",
          "data": {
            "text/plain": [
              "(0.0, 2.0)"
            ]
          },
          "metadata": {},
          "execution_count": 141
        },
        {
          "output_type": "display_data",
          "data": {
            "image/png": "[encoded data removed]",
            "text/plain": [
              "<Figure size 432x288 with 1 Axes>"
            ]
          },
          "metadata": {
            "needs_background": "light"
          }
        }
      ]
    },
    {
      "cell_type": "markdown",
      "metadata": {
        "id": "QsWL9T0-GYIf"
      },
      "source": [
        "---\n",
        "\n",
        "Evaluate \n",
        "\n"
      ]
    },
    {
      "cell_type": "code",
      "metadata": {
        "id": "K_U1FvusGX4y",
        "colab": {
          "base_uri": "https://localhost:8080/"
        },
        "outputId": "a180c9fc-06a2-4173-e8a6-249deff6496f"
      },
      "source": [
        "ann_model.evaluate(x_test,y_test)"
      ],
      "execution_count": 23,
      "outputs": [
        {
          "output_type": "stream",
          "name": "stdout",
          "text": [
            "\r43/1 [==========================================================================================================================================================================================================================================================================================================================================================================================================================================================================================================================================================================================================================================================================================================================================================================================================================================================================================================================================================================================================================================================================================================================================================================================================================================================================================================================================] - 0s 4ms/sample - loss: 1.1352 - accuracy: 0.8605\n"
          ]
        },
        {
          "output_type": "execute_result",
          "data": {
            "text/plain": [
              "[1.5722060466921606, 0.8604651]"
            ]
          },
          "metadata": {},
          "execution_count": 23
        }
      ]
    },
    {
      "cell_type": "markdown",
      "metadata": {
        "id": "SYTzupJRHexY"
      },
      "source": [
        "# Saving model"
      ]
    },
    {
      "cell_type": "code",
      "metadata": {
        "id": "wgeRo3_2HeJD",
        "colab": {
          "base_uri": "https://localhost:8080/"
        },
        "outputId": "57668031-6d4b-42ec-892f-99474dd8af74"
      },
      "source": [
        "ann_model.save('/content/drive/MyDrive/S9_Seminar_DeepLearning/saved_model/ann_model_01')"
      ],
      "execution_count": null,
      "outputs": [
        {
          "output_type": "stream",
          "name": "stdout",
          "text": [
            "INFO:tensorflow:Assets written to: /content/drive/MyDrive/S9_Seminar_DeepLearning/saved_model/ann_model_01/assets\n"
          ]
        }
      ]
    },
    {
      "cell_type": "markdown",
      "metadata": {
        "id": "DwrpxGFVIMao"
      },
      "source": [
        "# Loading model"
      ]
    },
    {
      "cell_type": "code",
      "metadata": {
        "id": "PqpFmfm9INUw",
        "colab": {
          "base_uri": "https://localhost:8080/"
        },
        "outputId": "e62c2c20-fa40-4a12-c059-59c17860156c"
      },
      "source": [
        "model_saved = keras.models.load_model('/content/drive/MyDrive/S9_Seminar_DeepLearning/saved_model/ann_model_01')\n",
        "model_saved.summary()"
      ],
      "execution_count": null,
      "outputs": [
        {
          "output_type": "stream",
          "name": "stdout",
          "text": [
            "Model: \"sequential\"\n",
            "_________________________________________________________________\n",
            "Layer (type)                 Output Shape              Param #   \n",
            "=================================================================\n",
            "flatten (Flatten)            (None, 784)               0         \n",
            "_________________________________________________________________\n",
            "dense (Dense)                (None, 100)               78500     \n",
            "_________________________________________________________________\n",
            "dense_1 (Dense)              (None, 5)                 505       \n",
            "=================================================================\n",
            "Total params: 79,005\n",
            "Trainable params: 79,005\n",
            "Non-trainable params: 0\n",
            "_________________________________________________________________\n"
          ]
        }
      ]
    },
    {
      "cell_type": "code",
      "metadata": {
        "id": "lqB8bhtDJPG2",
        "colab": {
          "base_uri": "https://localhost:8080/"
        },
        "outputId": "d738abe6-7f6e-46f1-81e1-84accad7d2d5"
      },
      "source": [
        "model_saved.evaluate(x_test,y_test)"
      ],
      "execution_count": null,
      "outputs": [
        {
          "output_type": "stream",
          "name": "stdout",
          "text": [
            "\r56/1 [================================================================================================================================================================================================================================================================================================================================================================================================================================================================================================================================================================================================================================================================================================================================================================================================================================================================================================================================================================================================================================================================================================================================================================================================================================================================================================================================================================================================================================================================================================================================================================================================================================================================================================================================================] - 0s 2ms/sample - loss: 3.4943 - accuracy: 0.2679\n"
          ]
        },
        {
          "output_type": "execute_result",
          "data": {
            "text/plain": [
              "[3.8855698108673096, 0.26785713]"
            ]
          },
          "metadata": {},
          "execution_count": 37
        }
      ]
    },
    {
      "cell_type": "code",
      "metadata": {
        "id": "e5576B8ISzm1"
      },
      "source": [
        "img_zero = np.zeros(x_test[5].shape)\n",
        "plt.figure()\n",
        "plt.imshow(tf.squeeze(img_zero)) #using tf.squeeze on the image fixes the plt error"
      ],
      "execution_count": null,
      "outputs": []
    },
    {
      "cell_type": "markdown",
      "metadata": {
        "id": "jqw4LIIKwsTt"
      },
      "source": [
        "# Prediction"
      ]
    },
    {
      "cell_type": "code",
      "metadata": {
        "id": "ONJOujz8MOX9",
        "colab": {
          "base_uri": "https://localhost:8080/",
          "height": 334
        },
        "collapsed": true,
        "outputId": "6a73a931-0739-464d-8dbe-75d9a7cde0b5"
      },
      "source": [
        "def predict_image(x,y,img_index,model,label_list):\n",
        "  # predict single image\n",
        "  img = x[img_index]\n",
        "\n",
        "  y_predict = model.predict(x[img_index:img_index+1])\n",
        "  y_predict_class = np.argmax(y_predict)\n",
        "  y_predict_class = label_list[y_predict_class]\n",
        "\n",
        "  # real label\n",
        "  y_real = y[img_index]\n",
        "  y_real = label_list[y_real]\n",
        "\n",
        "  # plot\n",
        "  plt.figure(figsize=(5,5))\n",
        "  plt.imshow(tf.squeeze(img)) #squeeze the image before displaying\n",
        "  plt.xlabel(\"pred: {}, label: {}\".format(y_predict_class,y_real))\n",
        "\n",
        "\n",
        "labels_str = ['Square', 'Rectangle', 'Triangle', 'Pentagon', 'Circle']\n",
        "predict_image(x_test,y_test,2,model_saved,labels_str)"
      ],
      "execution_count": null,
      "outputs": [
        {
          "output_type": "display_data",
          "data": {
            "image/png": "[encoded data removed]",
            "text/plain": [
              "<Figure size 360x360 with 1 Axes>"
            ]
          },
          "metadata": {
            "needs_background": "light"
          }
        }
      ]
    },
    {
      "cell_type": "markdown",
      "metadata": {
        "id": "vaX4KyYNf9jC"
      },
      "source": [
        "**Confusion Matrix**"
      ]
    },
    {
      "cell_type": "code",
      "metadata": {
        "colab": {
          "base_uri": "https://localhost:8080/",
          "height": 351
        },
        "id": "qB49G-sheW1E",
        "outputId": "6fb46534-477a-420d-fe7a-3abeb4d2df2a"
      },
      "source": [
        "import seaborn as sb\n",
        "\n",
        "y_pred = ann_model.predict(x_test)\n",
        "y_pred_classes = [np.argmax(i) for i in y_pred]\n",
        "\n",
        "confusion_matrix = tf.math.confusion_matrix(labels = y_test, predictions= y_pred_classes)\n",
        "\n",
        "plt.figure(figsize=(7,5))\n",
        "sb.heatmap(confusion_matrix, annot = True, fmt='d')\n",
        "plt.xlabel('Predicted')\n",
        "plt.ylabel('Ground truth')"
      ],
      "execution_count": 17,
      "outputs": [
        {
          "output_type": "execute_result",
          "data": {
            "text/plain": [
              "Text(42.0, 0.5, 'Ground truth')"
            ]
          },
          "metadata": {},
          "execution_count": 17
        },
        {
          "output_type": "display_data",
          "data": {
            "image/png": "[encoded data removed]",
            "text/plain": [
              "<Figure size 504x360 with 2 Axes>"
            ]
          },
          "metadata": {
            "needs_background": "light"
          }
        }
      ]
    }
  ]
}